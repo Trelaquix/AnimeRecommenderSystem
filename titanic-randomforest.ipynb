{
 "cells": [
  {
   "cell_type": "code",
   "execution_count": 1,
   "id": "6c5d08ce",
   "metadata": {
    "_cell_guid": "b1076dfc-b9ad-4769-8c92-a6c4dae69d19",
    "_uuid": "8f2839f25d086af736a60e9eeb907d3b93b6e0e5",
    "execution": {
     "iopub.execute_input": "2023-08-03T09:20:21.428596Z",
     "iopub.status.busy": "2023-08-03T09:20:21.428050Z",
     "iopub.status.idle": "2023-08-03T09:20:23.594231Z",
     "shell.execute_reply": "2023-08-03T09:20:23.592575Z"
    },
    "papermill": {
     "duration": 2.205815,
     "end_time": "2023-08-03T09:20:23.597085",
     "exception": false,
     "start_time": "2023-08-03T09:20:21.391270",
     "status": "completed"
    },
    "tags": []
   },
   "outputs": [
    {
     "name": "stderr",
     "output_type": "stream",
     "text": [
      "/opt/conda/lib/python3.10/site-packages/scipy/__init__.py:146: UserWarning: A NumPy version >=1.16.5 and <1.23.0 is required for this version of SciPy (detected version 1.23.5\n",
      "  warnings.warn(f\"A NumPy version >={np_minversion} and <{np_maxversion}\"\n"
     ]
    },
    {
     "name": "stdout",
     "output_type": "stream",
     "text": [
      "/kaggle/input/titanic/train.csv\n",
      "/kaggle/input/titanic/test.csv\n",
      "/kaggle/input/titanic/gender_submission.csv\n"
     ]
    }
   ],
   "source": [
    "# This Python 3 environment comes with many helpful analytics libraries installed\n",
    "# It is defined by the kaggle/python Docker image: https://github.com/kaggle/docker-python\n",
    "# For example, here's several helpful packages to load\n",
    "\n",
    "import numpy as np # linear algebra\n",
    "import pandas as pd # data processing, CSV file I/O (e.g. pd.read_csv)\n",
    "\n",
    "# data visualization\n",
    "import seaborn as sns\n",
    "%matplotlib inline\n",
    "from matplotlib import pyplot as plt\n",
    "from matplotlib import style\n",
    "\n",
    "# Input data files are available in the read-only \"../input/\" directory\n",
    "# For example, running this (by clicking run or pressing Shift+Enter) will list all files under the input directory\n",
    "\n",
    "# Algorithms\n",
    "from sklearn import linear_model\n",
    "from sklearn.linear_model import LogisticRegression\n",
    "from sklearn.ensemble import RandomForestClassifier\n",
    "from sklearn.linear_model import Perceptron\n",
    "from sklearn.linear_model import SGDClassifier\n",
    "from sklearn.tree import DecisionTreeClassifier\n",
    "from sklearn.neighbors import KNeighborsClassifier\n",
    "from sklearn.svm import SVC, LinearSVC\n",
    "from sklearn.naive_bayes import GaussianNB\n",
    "\n",
    "import os\n",
    "for dirname, _, filenames in os.walk('/kaggle/input/titanic'):\n",
    "    for filename in filenames:\n",
    "        print(os.path.join(dirname, filename))\n",
    "\n",
    "# You can write up to 20GB to the current directory (/kaggle/working/) that gets preserved as output when you create a version using \"Save & Run All\" \n",
    "# You can also write temporary files to /kaggle/temp/, but they won't be saved outside of the current session"
   ]
  },
  {
   "cell_type": "markdown",
   "id": "1a45202e",
   "metadata": {
    "papermill": {
     "duration": 0.034396,
     "end_time": "2023-08-03T09:20:23.665795",
     "exception": false,
     "start_time": "2023-08-03T09:20:23.631399",
     "status": "completed"
    },
    "tags": []
   },
   "source": [
    "# Reading the files\n",
    "* In Machine Learning, we separate our dataset into two parts, the training dataset 'train_df' and the testing dataset 'test_df'. Each dataset serves a specific purpose in the model development process.\n",
    "\n",
    "* The training dataset is used to train the machine learning model. It contains a labeled set of data, where the target variable (the variable we want to predict) is provided along with the input features (independent variables).\n",
    "\n",
    "* The testing dataset is used to evaluate the perfomrance of the trained model on unseen data."
   ]
  },
  {
   "cell_type": "code",
   "execution_count": 2,
   "id": "99f30bf0",
   "metadata": {
    "execution": {
     "iopub.execute_input": "2023-08-03T09:20:23.735767Z",
     "iopub.status.busy": "2023-08-03T09:20:23.734997Z",
     "iopub.status.idle": "2023-08-03T09:20:23.773995Z",
     "shell.execute_reply": "2023-08-03T09:20:23.772654Z"
    },
    "papermill": {
     "duration": 0.077375,
     "end_time": "2023-08-03T09:20:23.776762",
     "exception": false,
     "start_time": "2023-08-03T09:20:23.699387",
     "status": "completed"
    },
    "tags": []
   },
   "outputs": [],
   "source": [
    "train_df = pd.read_csv(\"/kaggle/input/titanic/train.csv\")\n",
    "test_df  = pd.read_csv(\"/kaggle/input/titanic/test.csv\")"
   ]
  },
  {
   "cell_type": "markdown",
   "id": "38a28ce2",
   "metadata": {
    "papermill": {
     "duration": 0.033426,
     "end_time": "2023-08-03T09:20:23.844378",
     "exception": false,
     "start_time": "2023-08-03T09:20:23.810952",
     "status": "completed"
    },
    "tags": []
   },
   "source": [
    "Display the DataFrame using .info() function. The method provides a consicse summary of the DataFrame's structure, including the number of non-null values, data types, and memoory usage."
   ]
  },
  {
   "cell_type": "code",
   "execution_count": 3,
   "id": "19b6b22f",
   "metadata": {
    "execution": {
     "iopub.execute_input": "2023-08-03T09:20:23.913765Z",
     "iopub.status.busy": "2023-08-03T09:20:23.912975Z",
     "iopub.status.idle": "2023-08-03T09:20:23.948171Z",
     "shell.execute_reply": "2023-08-03T09:20:23.946912Z"
    },
    "papermill": {
     "duration": 0.073296,
     "end_time": "2023-08-03T09:20:23.951132",
     "exception": false,
     "start_time": "2023-08-03T09:20:23.877836",
     "status": "completed"
    },
    "tags": []
   },
   "outputs": [
    {
     "name": "stdout",
     "output_type": "stream",
     "text": [
      "<class 'pandas.core.frame.DataFrame'>\n",
      "RangeIndex: 891 entries, 0 to 890\n",
      "Data columns (total 12 columns):\n",
      " #   Column       Non-Null Count  Dtype  \n",
      "---  ------       --------------  -----  \n",
      " 0   PassengerId  891 non-null    int64  \n",
      " 1   Survived     891 non-null    int64  \n",
      " 2   Pclass       891 non-null    int64  \n",
      " 3   Name         891 non-null    object \n",
      " 4   Sex          891 non-null    object \n",
      " 5   Age          714 non-null    float64\n",
      " 6   SibSp        891 non-null    int64  \n",
      " 7   Parch        891 non-null    int64  \n",
      " 8   Ticket       891 non-null    object \n",
      " 9   Fare         891 non-null    float64\n",
      " 10  Cabin        204 non-null    object \n",
      " 11  Embarked     889 non-null    object \n",
      "dtypes: float64(2), int64(5), object(5)\n",
      "memory usage: 83.7+ KB\n"
     ]
    }
   ],
   "source": [
    "train_df.info()"
   ]
  },
  {
   "cell_type": "markdown",
   "id": "b24c9836",
   "metadata": {
    "papermill": {
     "duration": 0.036494,
     "end_time": "2023-08-03T09:20:24.022101",
     "exception": false,
     "start_time": "2023-08-03T09:20:23.985607",
     "status": "completed"
    },
    "tags": []
   },
   "source": [
    "Describing the data using the .describe() method. It generates a summary of descriptive statistics for the numerical columns in the DataFrame."
   ]
  },
  {
   "cell_type": "markdown",
   "id": "70e57294",
   "metadata": {
    "papermill": {
     "duration": 0.038198,
     "end_time": "2023-08-03T09:20:24.097035",
     "exception": false,
     "start_time": "2023-08-03T09:20:24.058837",
     "status": "completed"
    },
    "tags": []
   },
   "source": [
    "**Descrition of the features:**\n",
    "survival:    Survival \n",
    "PassengerId: Unique Id of a passenger. \n",
    "pclass:    Ticket class     \n",
    "sex:    Sex     \n",
    "Age:    Age in years     \n",
    "sibsp:    # of siblings / spouses aboard the Titanic     \n",
    "parch:    # of parents / children aboard the Titanic     \n",
    "ticket:    Ticket number     \n",
    "fare:    Passenger fare     \n",
    "cabin:    Cabin number     \n",
    "embarked:    Port of Embarkation"
   ]
  },
  {
   "cell_type": "code",
   "execution_count": 4,
   "id": "5d709726",
   "metadata": {
    "execution": {
     "iopub.execute_input": "2023-08-03T09:20:24.171519Z",
     "iopub.status.busy": "2023-08-03T09:20:24.171033Z",
     "iopub.status.idle": "2023-08-03T09:20:24.213540Z",
     "shell.execute_reply": "2023-08-03T09:20:24.212411Z"
    },
    "papermill": {
     "duration": 0.0829,
     "end_time": "2023-08-03T09:20:24.216113",
     "exception": false,
     "start_time": "2023-08-03T09:20:24.133213",
     "status": "completed"
    },
    "tags": []
   },
   "outputs": [
    {
     "data": {
      "text/html": [
       "<div>\n",
       "<style scoped>\n",
       "    .dataframe tbody tr th:only-of-type {\n",
       "        vertical-align: middle;\n",
       "    }\n",
       "\n",
       "    .dataframe tbody tr th {\n",
       "        vertical-align: top;\n",
       "    }\n",
       "\n",
       "    .dataframe thead th {\n",
       "        text-align: right;\n",
       "    }\n",
       "</style>\n",
       "<table border=\"1\" class=\"dataframe\">\n",
       "  <thead>\n",
       "    <tr style=\"text-align: right;\">\n",
       "      <th></th>\n",
       "      <th>PassengerId</th>\n",
       "      <th>Survived</th>\n",
       "      <th>Pclass</th>\n",
       "      <th>Age</th>\n",
       "      <th>SibSp</th>\n",
       "      <th>Parch</th>\n",
       "      <th>Fare</th>\n",
       "    </tr>\n",
       "  </thead>\n",
       "  <tbody>\n",
       "    <tr>\n",
       "      <th>count</th>\n",
       "      <td>891.000000</td>\n",
       "      <td>891.000000</td>\n",
       "      <td>891.000000</td>\n",
       "      <td>714.000000</td>\n",
       "      <td>891.000000</td>\n",
       "      <td>891.000000</td>\n",
       "      <td>891.000000</td>\n",
       "    </tr>\n",
       "    <tr>\n",
       "      <th>mean</th>\n",
       "      <td>446.000000</td>\n",
       "      <td>0.383838</td>\n",
       "      <td>2.308642</td>\n",
       "      <td>29.699118</td>\n",
       "      <td>0.523008</td>\n",
       "      <td>0.381594</td>\n",
       "      <td>32.204208</td>\n",
       "    </tr>\n",
       "    <tr>\n",
       "      <th>std</th>\n",
       "      <td>257.353842</td>\n",
       "      <td>0.486592</td>\n",
       "      <td>0.836071</td>\n",
       "      <td>14.526497</td>\n",
       "      <td>1.102743</td>\n",
       "      <td>0.806057</td>\n",
       "      <td>49.693429</td>\n",
       "    </tr>\n",
       "    <tr>\n",
       "      <th>min</th>\n",
       "      <td>1.000000</td>\n",
       "      <td>0.000000</td>\n",
       "      <td>1.000000</td>\n",
       "      <td>0.420000</td>\n",
       "      <td>0.000000</td>\n",
       "      <td>0.000000</td>\n",
       "      <td>0.000000</td>\n",
       "    </tr>\n",
       "    <tr>\n",
       "      <th>25%</th>\n",
       "      <td>223.500000</td>\n",
       "      <td>0.000000</td>\n",
       "      <td>2.000000</td>\n",
       "      <td>20.125000</td>\n",
       "      <td>0.000000</td>\n",
       "      <td>0.000000</td>\n",
       "      <td>7.910400</td>\n",
       "    </tr>\n",
       "    <tr>\n",
       "      <th>50%</th>\n",
       "      <td>446.000000</td>\n",
       "      <td>0.000000</td>\n",
       "      <td>3.000000</td>\n",
       "      <td>28.000000</td>\n",
       "      <td>0.000000</td>\n",
       "      <td>0.000000</td>\n",
       "      <td>14.454200</td>\n",
       "    </tr>\n",
       "    <tr>\n",
       "      <th>75%</th>\n",
       "      <td>668.500000</td>\n",
       "      <td>1.000000</td>\n",
       "      <td>3.000000</td>\n",
       "      <td>38.000000</td>\n",
       "      <td>1.000000</td>\n",
       "      <td>0.000000</td>\n",
       "      <td>31.000000</td>\n",
       "    </tr>\n",
       "    <tr>\n",
       "      <th>max</th>\n",
       "      <td>891.000000</td>\n",
       "      <td>1.000000</td>\n",
       "      <td>3.000000</td>\n",
       "      <td>80.000000</td>\n",
       "      <td>8.000000</td>\n",
       "      <td>6.000000</td>\n",
       "      <td>512.329200</td>\n",
       "    </tr>\n",
       "  </tbody>\n",
       "</table>\n",
       "</div>"
      ],
      "text/plain": [
       "       PassengerId    Survived      Pclass         Age       SibSp  \\\n",
       "count   891.000000  891.000000  891.000000  714.000000  891.000000   \n",
       "mean    446.000000    0.383838    2.308642   29.699118    0.523008   \n",
       "std     257.353842    0.486592    0.836071   14.526497    1.102743   \n",
       "min       1.000000    0.000000    1.000000    0.420000    0.000000   \n",
       "25%     223.500000    0.000000    2.000000   20.125000    0.000000   \n",
       "50%     446.000000    0.000000    3.000000   28.000000    0.000000   \n",
       "75%     668.500000    1.000000    3.000000   38.000000    1.000000   \n",
       "max     891.000000    1.000000    3.000000   80.000000    8.000000   \n",
       "\n",
       "            Parch        Fare  \n",
       "count  891.000000  891.000000  \n",
       "mean     0.381594   32.204208  \n",
       "std      0.806057   49.693429  \n",
       "min      0.000000    0.000000  \n",
       "25%      0.000000    7.910400  \n",
       "50%      0.000000   14.454200  \n",
       "75%      0.000000   31.000000  \n",
       "max      6.000000  512.329200  "
      ]
     },
     "execution_count": 4,
     "metadata": {},
     "output_type": "execute_result"
    }
   ],
   "source": [
    "train_df.describe()"
   ]
  },
  {
   "cell_type": "markdown",
   "id": "7b7d268f",
   "metadata": {
    "papermill": {
     "duration": 0.035254,
     "end_time": "2023-08-03T09:20:24.287338",
     "exception": false,
     "start_time": "2023-08-03T09:20:24.252084",
     "status": "completed"
    },
    "tags": []
   },
   "source": [
    "Display first 8 rows"
   ]
  },
  {
   "cell_type": "code",
   "execution_count": 5,
   "id": "e6d6d882",
   "metadata": {
    "execution": {
     "iopub.execute_input": "2023-08-03T09:20:24.358729Z",
     "iopub.status.busy": "2023-08-03T09:20:24.358232Z",
     "iopub.status.idle": "2023-08-03T09:20:24.379274Z",
     "shell.execute_reply": "2023-08-03T09:20:24.377968Z"
    },
    "papermill": {
     "duration": 0.060439,
     "end_time": "2023-08-03T09:20:24.382216",
     "exception": false,
     "start_time": "2023-08-03T09:20:24.321777",
     "status": "completed"
    },
    "tags": []
   },
   "outputs": [
    {
     "data": {
      "text/html": [
       "<div>\n",
       "<style scoped>\n",
       "    .dataframe tbody tr th:only-of-type {\n",
       "        vertical-align: middle;\n",
       "    }\n",
       "\n",
       "    .dataframe tbody tr th {\n",
       "        vertical-align: top;\n",
       "    }\n",
       "\n",
       "    .dataframe thead th {\n",
       "        text-align: right;\n",
       "    }\n",
       "</style>\n",
       "<table border=\"1\" class=\"dataframe\">\n",
       "  <thead>\n",
       "    <tr style=\"text-align: right;\">\n",
       "      <th></th>\n",
       "      <th>PassengerId</th>\n",
       "      <th>Survived</th>\n",
       "      <th>Pclass</th>\n",
       "      <th>Name</th>\n",
       "      <th>Sex</th>\n",
       "      <th>Age</th>\n",
       "      <th>SibSp</th>\n",
       "      <th>Parch</th>\n",
       "      <th>Ticket</th>\n",
       "      <th>Fare</th>\n",
       "      <th>Cabin</th>\n",
       "      <th>Embarked</th>\n",
       "    </tr>\n",
       "  </thead>\n",
       "  <tbody>\n",
       "    <tr>\n",
       "      <th>0</th>\n",
       "      <td>1</td>\n",
       "      <td>0</td>\n",
       "      <td>3</td>\n",
       "      <td>Braund, Mr. Owen Harris</td>\n",
       "      <td>male</td>\n",
       "      <td>22.0</td>\n",
       "      <td>1</td>\n",
       "      <td>0</td>\n",
       "      <td>A/5 21171</td>\n",
       "      <td>7.2500</td>\n",
       "      <td>NaN</td>\n",
       "      <td>S</td>\n",
       "    </tr>\n",
       "    <tr>\n",
       "      <th>1</th>\n",
       "      <td>2</td>\n",
       "      <td>1</td>\n",
       "      <td>1</td>\n",
       "      <td>Cumings, Mrs. John Bradley (Florence Briggs Th...</td>\n",
       "      <td>female</td>\n",
       "      <td>38.0</td>\n",
       "      <td>1</td>\n",
       "      <td>0</td>\n",
       "      <td>PC 17599</td>\n",
       "      <td>71.2833</td>\n",
       "      <td>C85</td>\n",
       "      <td>C</td>\n",
       "    </tr>\n",
       "    <tr>\n",
       "      <th>2</th>\n",
       "      <td>3</td>\n",
       "      <td>1</td>\n",
       "      <td>3</td>\n",
       "      <td>Heikkinen, Miss. Laina</td>\n",
       "      <td>female</td>\n",
       "      <td>26.0</td>\n",
       "      <td>0</td>\n",
       "      <td>0</td>\n",
       "      <td>STON/O2. 3101282</td>\n",
       "      <td>7.9250</td>\n",
       "      <td>NaN</td>\n",
       "      <td>S</td>\n",
       "    </tr>\n",
       "    <tr>\n",
       "      <th>3</th>\n",
       "      <td>4</td>\n",
       "      <td>1</td>\n",
       "      <td>1</td>\n",
       "      <td>Futrelle, Mrs. Jacques Heath (Lily May Peel)</td>\n",
       "      <td>female</td>\n",
       "      <td>35.0</td>\n",
       "      <td>1</td>\n",
       "      <td>0</td>\n",
       "      <td>113803</td>\n",
       "      <td>53.1000</td>\n",
       "      <td>C123</td>\n",
       "      <td>S</td>\n",
       "    </tr>\n",
       "    <tr>\n",
       "      <th>4</th>\n",
       "      <td>5</td>\n",
       "      <td>0</td>\n",
       "      <td>3</td>\n",
       "      <td>Allen, Mr. William Henry</td>\n",
       "      <td>male</td>\n",
       "      <td>35.0</td>\n",
       "      <td>0</td>\n",
       "      <td>0</td>\n",
       "      <td>373450</td>\n",
       "      <td>8.0500</td>\n",
       "      <td>NaN</td>\n",
       "      <td>S</td>\n",
       "    </tr>\n",
       "    <tr>\n",
       "      <th>5</th>\n",
       "      <td>6</td>\n",
       "      <td>0</td>\n",
       "      <td>3</td>\n",
       "      <td>Moran, Mr. James</td>\n",
       "      <td>male</td>\n",
       "      <td>NaN</td>\n",
       "      <td>0</td>\n",
       "      <td>0</td>\n",
       "      <td>330877</td>\n",
       "      <td>8.4583</td>\n",
       "      <td>NaN</td>\n",
       "      <td>Q</td>\n",
       "    </tr>\n",
       "    <tr>\n",
       "      <th>6</th>\n",
       "      <td>7</td>\n",
       "      <td>0</td>\n",
       "      <td>1</td>\n",
       "      <td>McCarthy, Mr. Timothy J</td>\n",
       "      <td>male</td>\n",
       "      <td>54.0</td>\n",
       "      <td>0</td>\n",
       "      <td>0</td>\n",
       "      <td>17463</td>\n",
       "      <td>51.8625</td>\n",
       "      <td>E46</td>\n",
       "      <td>S</td>\n",
       "    </tr>\n",
       "    <tr>\n",
       "      <th>7</th>\n",
       "      <td>8</td>\n",
       "      <td>0</td>\n",
       "      <td>3</td>\n",
       "      <td>Palsson, Master. Gosta Leonard</td>\n",
       "      <td>male</td>\n",
       "      <td>2.0</td>\n",
       "      <td>3</td>\n",
       "      <td>1</td>\n",
       "      <td>349909</td>\n",
       "      <td>21.0750</td>\n",
       "      <td>NaN</td>\n",
       "      <td>S</td>\n",
       "    </tr>\n",
       "  </tbody>\n",
       "</table>\n",
       "</div>"
      ],
      "text/plain": [
       "   PassengerId  Survived  Pclass  \\\n",
       "0            1         0       3   \n",
       "1            2         1       1   \n",
       "2            3         1       3   \n",
       "3            4         1       1   \n",
       "4            5         0       3   \n",
       "5            6         0       3   \n",
       "6            7         0       1   \n",
       "7            8         0       3   \n",
       "\n",
       "                                                Name     Sex   Age  SibSp  \\\n",
       "0                            Braund, Mr. Owen Harris    male  22.0      1   \n",
       "1  Cumings, Mrs. John Bradley (Florence Briggs Th...  female  38.0      1   \n",
       "2                             Heikkinen, Miss. Laina  female  26.0      0   \n",
       "3       Futrelle, Mrs. Jacques Heath (Lily May Peel)  female  35.0      1   \n",
       "4                           Allen, Mr. William Henry    male  35.0      0   \n",
       "5                                   Moran, Mr. James    male   NaN      0   \n",
       "6                            McCarthy, Mr. Timothy J    male  54.0      0   \n",
       "7                     Palsson, Master. Gosta Leonard    male   2.0      3   \n",
       "\n",
       "   Parch            Ticket     Fare Cabin Embarked  \n",
       "0      0         A/5 21171   7.2500   NaN        S  \n",
       "1      0          PC 17599  71.2833   C85        C  \n",
       "2      0  STON/O2. 3101282   7.9250   NaN        S  \n",
       "3      0            113803  53.1000  C123        S  \n",
       "4      0            373450   8.0500   NaN        S  \n",
       "5      0            330877   8.4583   NaN        Q  \n",
       "6      0             17463  51.8625   E46        S  \n",
       "7      1            349909  21.0750   NaN        S  "
      ]
     },
     "execution_count": 5,
     "metadata": {},
     "output_type": "execute_result"
    }
   ],
   "source": [
    "train_df.head(8)"
   ]
  },
  {
   "cell_type": "markdown",
   "id": "500678e8",
   "metadata": {
    "papermill": {
     "duration": 0.034164,
     "end_time": "2023-08-03T09:20:24.451818",
     "exception": false,
     "start_time": "2023-08-03T09:20:24.417654",
     "status": "completed"
    },
    "tags": []
   },
   "source": [
    "# Find out what data is missing\n",
    "Generate a summary of the total number of missing values and the percentage of missing values for the top 5 columns with the highest number of missing values."
   ]
  },
  {
   "cell_type": "code",
   "execution_count": 6,
   "id": "f9305563",
   "metadata": {
    "execution": {
     "iopub.execute_input": "2023-08-03T09:20:24.525810Z",
     "iopub.status.busy": "2023-08-03T09:20:24.525344Z",
     "iopub.status.idle": "2023-08-03T09:20:24.550205Z",
     "shell.execute_reply": "2023-08-03T09:20:24.549295Z"
    },
    "papermill": {
     "duration": 0.065569,
     "end_time": "2023-08-03T09:20:24.552540",
     "exception": false,
     "start_time": "2023-08-03T09:20:24.486971",
     "status": "completed"
    },
    "tags": []
   },
   "outputs": [
    {
     "data": {
      "text/html": [
       "<div>\n",
       "<style scoped>\n",
       "    .dataframe tbody tr th:only-of-type {\n",
       "        vertical-align: middle;\n",
       "    }\n",
       "\n",
       "    .dataframe tbody tr th {\n",
       "        vertical-align: top;\n",
       "    }\n",
       "\n",
       "    .dataframe thead th {\n",
       "        text-align: right;\n",
       "    }\n",
       "</style>\n",
       "<table border=\"1\" class=\"dataframe\">\n",
       "  <thead>\n",
       "    <tr style=\"text-align: right;\">\n",
       "      <th></th>\n",
       "      <th>Total</th>\n",
       "      <th>%</th>\n",
       "    </tr>\n",
       "  </thead>\n",
       "  <tbody>\n",
       "    <tr>\n",
       "      <th>Cabin</th>\n",
       "      <td>687</td>\n",
       "      <td>77.1</td>\n",
       "    </tr>\n",
       "    <tr>\n",
       "      <th>Age</th>\n",
       "      <td>177</td>\n",
       "      <td>19.9</td>\n",
       "    </tr>\n",
       "    <tr>\n",
       "      <th>Embarked</th>\n",
       "      <td>2</td>\n",
       "      <td>0.2</td>\n",
       "    </tr>\n",
       "    <tr>\n",
       "      <th>PassengerId</th>\n",
       "      <td>0</td>\n",
       "      <td>0.0</td>\n",
       "    </tr>\n",
       "    <tr>\n",
       "      <th>Survived</th>\n",
       "      <td>0</td>\n",
       "      <td>0.0</td>\n",
       "    </tr>\n",
       "  </tbody>\n",
       "</table>\n",
       "</div>"
      ],
      "text/plain": [
       "             Total     %\n",
       "Cabin          687  77.1\n",
       "Age            177  19.9\n",
       "Embarked         2   0.2\n",
       "PassengerId      0   0.0\n",
       "Survived         0   0.0"
      ]
     },
     "execution_count": 6,
     "metadata": {},
     "output_type": "execute_result"
    }
   ],
   "source": [
    "total = train_df.isnull().sum().sort_values(ascending=False)\n",
    "percent_1 = train_df.isnull().sum()/train_df.isnull().count()*100\n",
    "percent_2 = (round(percent_1, 1)).sort_values(ascending=False)\n",
    "missing_data = pd.concat([total, percent_2], axis=1, keys=['Total', '%'])\n",
    "missing_data.head(5)"
   ]
  },
  {
   "cell_type": "markdown",
   "id": "fb438201",
   "metadata": {
    "papermill": {
     "duration": 0.034759,
     "end_time": "2023-08-03T09:20:24.622999",
     "exception": false,
     "start_time": "2023-08-03T09:20:24.588240",
     "status": "completed"
    },
    "tags": []
   },
   "source": [
    "Retreive the names of the columns in a DataFrame as a NumPy array, returning an array containing the column names of the DataFrame in the same order they appear in the DataFrame."
   ]
  },
  {
   "cell_type": "code",
   "execution_count": 7,
   "id": "0c84b04d",
   "metadata": {
    "execution": {
     "iopub.execute_input": "2023-08-03T09:20:24.694895Z",
     "iopub.status.busy": "2023-08-03T09:20:24.694473Z",
     "iopub.status.idle": "2023-08-03T09:20:24.701786Z",
     "shell.execute_reply": "2023-08-03T09:20:24.700501Z"
    },
    "papermill": {
     "duration": 0.046267,
     "end_time": "2023-08-03T09:20:24.704304",
     "exception": false,
     "start_time": "2023-08-03T09:20:24.658037",
     "status": "completed"
    },
    "tags": []
   },
   "outputs": [
    {
     "data": {
      "text/plain": [
       "array(['PassengerId', 'Survived', 'Pclass', 'Name', 'Sex', 'Age', 'SibSp',\n",
       "       'Parch', 'Ticket', 'Fare', 'Cabin', 'Embarked'], dtype=object)"
      ]
     },
     "execution_count": 7,
     "metadata": {},
     "output_type": "execute_result"
    }
   ],
   "source": [
    "train_df.columns.values"
   ]
  },
  {
   "cell_type": "markdown",
   "id": "c5823e77",
   "metadata": {
    "papermill": {
     "duration": 0.034346,
     "end_time": "2023-08-03T09:20:24.774592",
     "exception": false,
     "start_time": "2023-08-03T09:20:24.740246",
     "status": "completed"
    },
    "tags": []
   },
   "source": [
    "# Visualising Data by Age and Sex"
   ]
  },
  {
   "cell_type": "code",
   "execution_count": 8,
   "id": "3ef86274",
   "metadata": {
    "execution": {
     "iopub.execute_input": "2023-08-03T09:20:24.845853Z",
     "iopub.status.busy": "2023-08-03T09:20:24.845080Z",
     "iopub.status.idle": "2023-08-03T09:20:25.897465Z",
     "shell.execute_reply": "2023-08-03T09:20:25.896327Z"
    },
    "papermill": {
     "duration": 1.091752,
     "end_time": "2023-08-03T09:20:25.900812",
     "exception": false,
     "start_time": "2023-08-03T09:20:24.809060",
     "status": "completed"
    },
    "tags": []
   },
   "outputs": [
    {
     "data": {
      "image/png": "[encoded data removed]",
      "text/plain": [
       "<Figure size 1000x400 with 2 Axes>"
      ]
     },
     "metadata": {},
     "output_type": "display_data"
    }
   ],
   "source": [
    "survived = 'survived'\n",
    "not_survived = 'not survived'\n",
    "fig, axes = plt.subplots(nrows=1, ncols=2,figsize=(10, 4))\n",
    "women = train_df[train_df['Sex']=='female']\n",
    "men = train_df[train_df['Sex']=='male']\n",
    "ax = sns.histplot(women[women['Survived']==1].Age.dropna(), bins=18, label = survived, ax = axes[0], kde =False, alpha=0.5)\n",
    "ax = sns.histplot(women[women['Survived']==0].Age.dropna(), bins=40, label = not_survived, ax = axes[0], kde =False, alpha=0.5)\n",
    "ax.legend()\n",
    "ax.set_title('Female')\n",
    "ax = sns.histplot(men[men['Survived']==1].Age.dropna(), bins=18, label = survived, ax = axes[1], kde = False, alpha=0.5)\n",
    "ax = sns.histplot(men[men['Survived']==0].Age.dropna(), bins=40, label = not_survived, ax = axes[1], kde = False, alpha=0.5)\n",
    "ax.legend()\n",
    "_ = ax.set_title('Male')"
   ]
  },
  {
   "cell_type": "markdown",
   "id": "834021cb",
   "metadata": {
    "papermill": {
     "duration": 0.03692,
     "end_time": "2023-08-03T09:20:25.975808",
     "exception": false,
     "start_time": "2023-08-03T09:20:25.938888",
     "status": "completed"
    },
    "tags": []
   },
   "source": [
    "**Result:**\n",
    "Certain age ranges have increased odds of survival."
   ]
  },
  {
   "cell_type": "markdown",
   "id": "bb9e4a01",
   "metadata": {
    "papermill": {
     "duration": 0.03925,
     "end_time": "2023-08-03T09:20:26.056157",
     "exception": false,
     "start_time": "2023-08-03T09:20:26.016907",
     "status": "completed"
    },
    "tags": []
   },
   "source": [
    "# Visualising based on Embarked, Pclass and sex"
   ]
  },
  {
   "cell_type": "code",
   "execution_count": 9,
   "id": "6eba6f75",
   "metadata": {
    "execution": {
     "iopub.execute_input": "2023-08-03T09:20:26.139709Z",
     "iopub.status.busy": "2023-08-03T09:20:26.139177Z",
     "iopub.status.idle": "2023-08-03T09:20:28.347394Z",
     "shell.execute_reply": "2023-08-03T09:20:28.346173Z"
    },
    "papermill": {
     "duration": 2.252576,
     "end_time": "2023-08-03T09:20:28.350079",
     "exception": false,
     "start_time": "2023-08-03T09:20:26.097503",
     "status": "completed"
    },
    "tags": []
   },
   "outputs": [
    {
     "name": "stderr",
     "output_type": "stream",
     "text": [
      "/opt/conda/lib/python3.10/site-packages/seaborn/axisgrid.py:118: UserWarning: The figure layout has changed to tight\n",
      "  self._figure.tight_layout(*args, **kwargs)\n"
     ]
    },
    {
     "data": {
      "text/plain": [
       "<seaborn.axisgrid.FacetGrid at 0x7ea672a24e20>"
      ]
     },
     "execution_count": 9,
     "metadata": {},
     "output_type": "execute_result"
    },
    {
     "data": {
      "image/png": "[encoded data removed]",
      "text/plain": [
       "<Figure size 548x900 with 3 Axes>"
      ]
     },
     "metadata": {},
     "output_type": "display_data"
    }
   ],
   "source": [
    "FacetGrid = sns.FacetGrid(train_df, row='Embarked', height=3, aspect=1.5)\n",
    "FacetGrid.map(sns.pointplot, 'Pclass', 'Survived', 'Sex', palette=None,  order=None, hue_order=None )\n",
    "FacetGrid.add_legend()"
   ]
  },
  {
   "cell_type": "markdown",
   "id": "f49866d4",
   "metadata": {
    "papermill": {
     "duration": 0.037083,
     "end_time": "2023-08-03T09:20:28.425290",
     "exception": false,
     "start_time": "2023-08-03T09:20:28.388207",
     "status": "completed"
    },
    "tags": []
   },
   "source": [
    "**Results:** Females have a higher chance of survival if they embarked on S or Q, but men have a higher chance of survival if they embakred at port C. Pclass also has a correlation which we will plot another graph below."
   ]
  },
  {
   "cell_type": "markdown",
   "id": "590b8c98",
   "metadata": {
    "papermill": {
     "duration": 0.03636,
     "end_time": "2023-08-03T09:20:28.503805",
     "exception": false,
     "start_time": "2023-08-03T09:20:28.467445",
     "status": "completed"
    },
    "tags": []
   },
   "source": [
    "# Visualising relationship between Pclass and Survival rate"
   ]
  },
  {
   "cell_type": "code",
   "execution_count": 10,
   "id": "c9f29c40",
   "metadata": {
    "execution": {
     "iopub.execute_input": "2023-08-03T09:20:28.582974Z",
     "iopub.status.busy": "2023-08-03T09:20:28.582400Z",
     "iopub.status.idle": "2023-08-03T09:20:29.010584Z",
     "shell.execute_reply": "2023-08-03T09:20:29.009569Z"
    },
    "papermill": {
     "duration": 0.469817,
     "end_time": "2023-08-03T09:20:29.013467",
     "exception": false,
     "start_time": "2023-08-03T09:20:28.543650",
     "status": "completed"
    },
    "tags": []
   },
   "outputs": [
    {
     "data": {
      "text/plain": [
       "<Axes: xlabel='Pclass', ylabel='Survived'>"
      ]
     },
     "execution_count": 10,
     "metadata": {},
     "output_type": "execute_result"
    },
    {
     "data": {
      "image/png": "[encoded data removed]",
      "text/plain": [
       "<Figure size 640x480 with 1 Axes>"
      ]
     },
     "metadata": {},
     "output_type": "display_data"
    }
   ],
   "source": [
    "sns.barplot(x='Pclass', y='Survived', data=train_df)"
   ]
  },
  {
   "cell_type": "markdown",
   "id": "87f9fd21",
   "metadata": {
    "papermill": {
     "duration": 0.041281,
     "end_time": "2023-08-03T09:20:29.097405",
     "exception": false,
     "start_time": "2023-08-03T09:20:29.056124",
     "status": "completed"
    },
    "tags": []
   },
   "source": [
    "**Results:** Pclass 1 has the highest survival rate and Pclass 3 has the lowest survival rate. We will create another Pclass plot below."
   ]
  },
  {
   "cell_type": "code",
   "execution_count": 11,
   "id": "f006a378",
   "metadata": {
    "execution": {
     "iopub.execute_input": "2023-08-03T09:20:29.182703Z",
     "iopub.status.busy": "2023-08-03T09:20:29.181085Z",
     "iopub.status.idle": "2023-08-03T09:20:32.293338Z",
     "shell.execute_reply": "2023-08-03T09:20:32.292438Z"
    },
    "papermill": {
     "duration": 3.157998,
     "end_time": "2023-08-03T09:20:32.295872",
     "exception": false,
     "start_time": "2023-08-03T09:20:29.137874",
     "status": "completed"
    },
    "tags": []
   },
   "outputs": [
    {
     "name": "stderr",
     "output_type": "stream",
     "text": [
      "/opt/conda/lib/python3.10/site-packages/seaborn/axisgrid.py:118: UserWarning: The figure layout has changed to tight\n",
      "  self._figure.tight_layout(*args, **kwargs)\n"
     ]
    },
    {
     "data": {
      "image/png": "[encoded data removed]",
      "text/plain": [
       "<Figure size 715.111x660 with 6 Axes>"
      ]
     },
     "metadata": {},
     "output_type": "display_data"
    }
   ],
   "source": [
    "grid = sns.FacetGrid(train_df, col='Survived', row='Pclass', height=2.2, aspect=1.6)\n",
    "grid.map(plt.hist, 'Age', alpha=.5, bins=20)\n",
    "grid.add_legend();"
   ]
  },
  {
   "cell_type": "markdown",
   "id": "56dcddc6",
   "metadata": {
    "papermill": {
     "duration": 0.042244,
     "end_time": "2023-08-03T09:20:32.377628",
     "exception": false,
     "start_time": "2023-08-03T09:20:32.335384",
     "status": "completed"
    },
    "tags": []
   },
   "source": [
    "**Results:** This plot confirms that Pclass 1 has the highest survival rate and Pclass 3 has the lowest survival rate."
   ]
  },
  {
   "cell_type": "markdown",
   "id": "10628eb3",
   "metadata": {
    "papermill": {
     "duration": 0.040894,
     "end_time": "2023-08-03T09:20:32.459462",
     "exception": false,
     "start_time": "2023-08-03T09:20:32.418568",
     "status": "completed"
    },
    "tags": []
   },
   "source": [
    "# SibSp and Parch\n",
    "Combining SibSp and Parch to a feature that makes more sense. We will create it as 'not_alone' to show if someone is alone or not."
   ]
  },
  {
   "cell_type": "code",
   "execution_count": 12,
   "id": "ba7a510b",
   "metadata": {
    "execution": {
     "iopub.execute_input": "2023-08-03T09:20:32.546036Z",
     "iopub.status.busy": "2023-08-03T09:20:32.544566Z",
     "iopub.status.idle": "2023-08-03T09:20:32.562972Z",
     "shell.execute_reply": "2023-08-03T09:20:32.561306Z"
    },
    "papermill": {
     "duration": 0.063878,
     "end_time": "2023-08-03T09:20:32.565948",
     "exception": false,
     "start_time": "2023-08-03T09:20:32.502070",
     "status": "completed"
    },
    "tags": []
   },
   "outputs": [
    {
     "data": {
      "text/plain": [
       "1    537\n",
       "0    354\n",
       "Name: not_alone, dtype: int64"
      ]
     },
     "execution_count": 12,
     "metadata": {},
     "output_type": "execute_result"
    }
   ],
   "source": [
    "data = [train_df, test_df]\n",
    "for dataset in data:\n",
    "    dataset['relatives'] = dataset['SibSp'] + dataset['Parch']\n",
    "    dataset.loc[dataset['relatives'] > 0, 'not_alone'] = 0\n",
    "    dataset.loc[dataset['relatives'] == 0, 'not_alone'] = 1\n",
    "    dataset['not_alone'] = dataset['not_alone'].astype(int)\n",
    "train_df['not_alone'].value_counts()"
   ]
  },
  {
   "cell_type": "markdown",
   "id": "26ca74d3",
   "metadata": {
    "papermill": {
     "duration": 0.037583,
     "end_time": "2023-08-03T09:20:32.642709",
     "exception": false,
     "start_time": "2023-08-03T09:20:32.605126",
     "status": "completed"
    },
    "tags": []
   },
   "source": [
    "**Results:** We can see that there are 354 passengers who were alone."
   ]
  },
  {
   "cell_type": "code",
   "execution_count": 13,
   "id": "7142f9b7",
   "metadata": {
    "execution": {
     "iopub.execute_input": "2023-08-03T09:20:32.721193Z",
     "iopub.status.busy": "2023-08-03T09:20:32.720294Z",
     "iopub.status.idle": "2023-08-03T09:20:33.399129Z",
     "shell.execute_reply": "2023-08-03T09:20:33.397798Z"
    },
    "papermill": {
     "duration": 0.721519,
     "end_time": "2023-08-03T09:20:33.401995",
     "exception": false,
     "start_time": "2023-08-03T09:20:32.680476",
     "status": "completed"
    },
    "tags": []
   },
   "outputs": [
    {
     "data": {
      "text/plain": [
       "<Axes: xlabel='relatives', ylabel='Survived'>"
      ]
     },
     "execution_count": 13,
     "metadata": {},
     "output_type": "execute_result"
    },
    {
     "data": {
      "image/png": "[encoded data removed]",
      "text/plain": [
       "<Figure size 640x480 with 1 Axes>"
      ]
     },
     "metadata": {},
     "output_type": "display_data"
    }
   ],
   "source": [
    "sns.barplot(x='relatives', y='Survived', data=train_df)"
   ]
  },
  {
   "cell_type": "markdown",
   "id": "e3d178b6",
   "metadata": {
    "papermill": {
     "duration": 0.040579,
     "end_time": "2023-08-03T09:20:33.482543",
     "exception": false,
     "start_time": "2023-08-03T09:20:33.441964",
     "status": "completed"
    },
    "tags": []
   },
   "source": [
    "**Results:** We can see that there is a high probability of survival with 1 to 3 relatives but a lower probability if you have 0 or more than 3, with the exception of 6."
   ]
  },
  {
   "cell_type": "markdown",
   "id": "3f4443eb",
   "metadata": {
    "papermill": {
     "duration": 0.038859,
     "end_time": "2023-08-03T09:20:33.560661",
     "exception": false,
     "start_time": "2023-08-03T09:20:33.521802",
     "status": "completed"
    },
    "tags": []
   },
   "source": [
    "# Data Preprocessing\n",
    "Data preprocessing is a crucial step. It refers to the process of cleaning, transformating and organising raw data into a format suitable for data analysis or training machine learning models. The goal is to ensure that the data is accurate, complete, and relevant for the indened analysis or modeling task."
   ]
  },
  {
   "cell_type": "markdown",
   "id": "c3edb4ef",
   "metadata": {
    "papermill": {
     "duration": 0.038127,
     "end_time": "2023-08-03T09:20:33.638338",
     "exception": false,
     "start_time": "2023-08-03T09:20:33.600211",
     "status": "completed"
    },
    "tags": []
   },
   "source": [
    "**1. Irrelevant Data:** We will drop PassengerId from the train set as it does not contribute to a person's surival probability."
   ]
  },
  {
   "cell_type": "code",
   "execution_count": 14,
   "id": "e54a787a",
   "metadata": {
    "execution": {
     "iopub.execute_input": "2023-08-03T09:20:33.718508Z",
     "iopub.status.busy": "2023-08-03T09:20:33.717963Z",
     "iopub.status.idle": "2023-08-03T09:20:33.727986Z",
     "shell.execute_reply": "2023-08-03T09:20:33.726608Z"
    },
    "papermill": {
     "duration": 0.053249,
     "end_time": "2023-08-03T09:20:33.730419",
     "exception": false,
     "start_time": "2023-08-03T09:20:33.677170",
     "status": "completed"
    },
    "tags": []
   },
   "outputs": [
    {
     "name": "stdout",
     "output_type": "stream",
     "text": [
      "'PassengerId' column dropped.\n"
     ]
    }
   ],
   "source": [
    "if 'PassengerId' in train_df.columns:\n",
    "    # Drop the 'PassengerId' column\n",
    "    train_df = train_df.drop(['PassengerId'], axis=1)\n",
    "    print(\"'PassengerId' column dropped.\")\n",
    "else:\n",
    "    print(\"'PassengerId' column not found in the DataFrame.\")"
   ]
  },
  {
   "cell_type": "markdown",
   "id": "1f42fff7",
   "metadata": {
    "papermill": {
     "duration": 0.038719,
     "end_time": "2023-08-03T09:20:33.807429",
     "exception": false,
     "start_time": "2023-08-03T09:20:33.768710",
     "status": "completed"
    },
    "tags": []
   },
   "source": [
    "**2. Missing data:** Analysing Cabin data and transforming it to Deck, a numerical value."
   ]
  },
  {
   "cell_type": "code",
   "execution_count": 15,
   "id": "2a4ae9c2",
   "metadata": {
    "execution": {
     "iopub.execute_input": "2023-08-03T09:20:33.887273Z",
     "iopub.status.busy": "2023-08-03T09:20:33.886149Z",
     "iopub.status.idle": "2023-08-03T09:20:33.894662Z",
     "shell.execute_reply": "2023-08-03T09:20:33.892808Z"
    },
    "papermill": {
     "duration": 0.050976,
     "end_time": "2023-08-03T09:20:33.896895",
     "exception": false,
     "start_time": "2023-08-03T09:20:33.845919",
     "status": "completed"
    },
    "tags": []
   },
   "outputs": [
    {
     "name": "stdout",
     "output_type": "stream",
     "text": [
      "[nan 'C85' 'C123' 'E46' 'G6' 'C103' 'D56' 'A6' 'C23 C25 C27' 'B78' 'D33'\n",
      " 'B30' 'C52' 'B28' 'C83' 'F33' 'F G73' 'E31' 'A5' 'D10 D12' 'D26' 'C110'\n",
      " 'B58 B60' 'E101' 'F E69' 'D47' 'B86' 'F2' 'C2' 'E33' 'B19' 'A7' 'C49'\n",
      " 'F4' 'A32' 'B4' 'B80' 'A31' 'D36' 'D15' 'C93' 'C78' 'D35' 'C87' 'B77'\n",
      " 'E67' 'B94' 'C125' 'C99' 'C118' 'D7' 'A19' 'B49' 'D' 'C22 C26' 'C106'\n",
      " 'C65' 'E36' 'C54' 'B57 B59 B63 B66' 'C7' 'E34' 'C32' 'B18' 'C124' 'C91'\n",
      " 'E40' 'T' 'C128' 'D37' 'B35' 'E50' 'C82' 'B96 B98' 'E10' 'E44' 'A34'\n",
      " 'C104' 'C111' 'C92' 'E38' 'D21' 'E12' 'E63' 'A14' 'B37' 'C30' 'D20' 'B79'\n",
      " 'E25' 'D46' 'B73' 'C95' 'B38' 'B39' 'B22' 'C86' 'C70' 'A16' 'C101']\n"
     ]
    }
   ],
   "source": [
    "# Print the first 100 unique values of Cabin\n",
    "print(train_df['Cabin'].unique()[:100])"
   ]
  },
  {
   "cell_type": "markdown",
   "id": "7a715824",
   "metadata": {
    "papermill": {
     "duration": 0.037903,
     "end_time": "2023-08-03T09:20:33.973049",
     "exception": false,
     "start_time": "2023-08-03T09:20:33.935146",
     "status": "completed"
    },
    "tags": []
   },
   "source": [
    "The cabin values looks like 'A14' 'B37' 'C30' and the first letters resemble the decks present on the titanic ranging from A to G. We will extract these and create a new feature that contains a person's deck and afterwards we will convert the feature into a numeric variable. For the null values in the Cabin, we will fill it with \"U0\", and it will have a value of 8.\n",
    "\n",
    "Link to decks on the titanic: https://www.dummies.com/article/academics-the-arts/history/20th-century/titanic-facts-the-layout-of-the-ship-180759/\n",
    "\n",
    "Things to note: In the Cabin column, there is actually a row with value 'T' which caused a null value to appear once in Deck after the conversion. Since T value only appears once in the dataset, and it is not an actual deck on the Titanic, I decided to convert all null values in Deck to '8' to match the other null values in Cabin.\n",
    "\n",
    "Here is what I did to track that 'T' value. I printed the number of null values in Cabin and Deck after the conversion. Then displayed the row with null value in Deck as follows:\n",
    "> print(train_df['Cabin'].isna().sum())\n",
    "\n",
    "> print(train_df['Deck'].isna().sum())\n",
    "\n",
    "> print(train_df[train_df['Deck'].isna()].iloc[0])"
   ]
  },
  {
   "cell_type": "code",
   "execution_count": 16,
   "id": "e18c809c",
   "metadata": {
    "execution": {
     "iopub.execute_input": "2023-08-03T09:20:34.052696Z",
     "iopub.status.busy": "2023-08-03T09:20:34.051838Z",
     "iopub.status.idle": "2023-08-03T09:20:34.079225Z",
     "shell.execute_reply": "2023-08-03T09:20:34.077345Z"
    },
    "papermill": {
     "duration": 0.070774,
     "end_time": "2023-08-03T09:20:34.082187",
     "exception": false,
     "start_time": "2023-08-03T09:20:34.011413",
     "status": "completed"
    },
    "tags": []
   },
   "outputs": [
    {
     "name": "stdout",
     "output_type": "stream",
     "text": [
      "1     15\n",
      "2     47\n",
      "3     59\n",
      "4     33\n",
      "5     32\n",
      "6     13\n",
      "7      4\n",
      "8    688\n",
      "Name: Deck, dtype: int64\n"
     ]
    }
   ],
   "source": [
    "import re\n",
    "deck = {\"A\": 1, \"B\": 2, \"C\": 3, \"D\": 4, \"E\": 5, \"F\": 6, \"G\": 7, \"U\": 8}\n",
    "data = [train_df, test_df]\n",
    "\n",
    "for dataset in data:\n",
    "    dataset['Cabin'] = dataset['Cabin'].fillna(\"U0\")\n",
    "    dataset['Deck'] = dataset['Cabin'].map(lambda x: re.compile(\"([a-zA-Z]+)\").search(x).group())\n",
    "    dataset['Deck'] = dataset['Deck'].map(deck)\n",
    "    dataset['Deck'] = dataset['Deck'].fillna(8)\n",
    "    dataset['Deck'] = dataset['Deck'].astype(int)\n",
    "\n",
    "# we can now drop the cabin feature\n",
    "train_df = train_df.drop(['Cabin'], axis=1)\n",
    "test_df = test_df.drop(['Cabin'], axis=1)\n",
    "\n",
    "# Print the occurance for each unique values of Cabin\n",
    "print(train_df['Deck'].value_counts().sort_index().head(10))"
   ]
  },
  {
   "cell_type": "markdown",
   "id": "a96b4a72",
   "metadata": {
    "papermill": {
     "duration": 0.038454,
     "end_time": "2023-08-03T09:20:34.159564",
     "exception": false,
     "start_time": "2023-08-03T09:20:34.121110",
     "status": "completed"
    },
    "tags": []
   },
   "source": [
    "**3. Missing data:** Missing Age values using an array that contains random numbers, computed based on the mean age value in regards to the standard deviation and is_null."
   ]
  },
  {
   "cell_type": "code",
   "execution_count": 17,
   "id": "7b057438",
   "metadata": {
    "execution": {
     "iopub.execute_input": "2023-08-03T09:20:34.238394Z",
     "iopub.status.busy": "2023-08-03T09:20:34.237855Z",
     "iopub.status.idle": "2023-08-03T09:20:34.255964Z",
     "shell.execute_reply": "2023-08-03T09:20:34.254679Z"
    },
    "papermill": {
     "duration": 0.060961,
     "end_time": "2023-08-03T09:20:34.258666",
     "exception": false,
     "start_time": "2023-08-03T09:20:34.197705",
     "status": "completed"
    },
    "tags": []
   },
   "outputs": [
    {
     "data": {
      "text/plain": [
       "0"
      ]
     },
     "execution_count": 17,
     "metadata": {},
     "output_type": "execute_result"
    }
   ],
   "source": [
    "data = [train_df, test_df]\n",
    "\n",
    "for dataset in data:\n",
    "    mean = train_df[\"Age\"].mean()\n",
    "    std = test_df[\"Age\"].std()\n",
    "    is_null = dataset[\"Age\"].isnull().sum()\n",
    "    # compute random numbers between the mean, std and is_null\n",
    "    rand_age = np.random.randint(mean - std, mean + std, size = is_null)\n",
    "    # fill NaN values in Age column with random values generated\n",
    "    age_slice = dataset[\"Age\"].copy()\n",
    "    age_slice[np.isnan(age_slice)] = rand_age\n",
    "    dataset[\"Age\"] = age_slice\n",
    "    dataset[\"Age\"] = train_df[\"Age\"].astype(int)\n",
    "train_df[\"Age\"].isnull().sum()"
   ]
  },
  {
   "cell_type": "markdown",
   "id": "3f8f25be",
   "metadata": {
    "papermill": {
     "duration": 0.043063,
     "end_time": "2023-08-03T09:20:34.345615",
     "exception": false,
     "start_time": "2023-08-03T09:20:34.302552",
     "status": "completed"
    },
    "tags": []
   },
   "source": [
    "**3. Missing data:** Since Embarked only has 2 missing values, we will just fill it with the most common one."
   ]
  },
  {
   "cell_type": "code",
   "execution_count": 18,
   "id": "a8d96b69",
   "metadata": {
    "execution": {
     "iopub.execute_input": "2023-08-03T09:20:34.434900Z",
     "iopub.status.busy": "2023-08-03T09:20:34.434292Z",
     "iopub.status.idle": "2023-08-03T09:20:34.445959Z",
     "shell.execute_reply": "2023-08-03T09:20:34.444844Z"
    },
    "papermill": {
     "duration": 0.058041,
     "end_time": "2023-08-03T09:20:34.448602",
     "exception": false,
     "start_time": "2023-08-03T09:20:34.390561",
     "status": "completed"
    },
    "tags": []
   },
   "outputs": [
    {
     "data": {
      "text/plain": [
       "count     889\n",
       "unique      3\n",
       "top         S\n",
       "freq      644\n",
       "Name: Embarked, dtype: object"
      ]
     },
     "execution_count": 18,
     "metadata": {},
     "output_type": "execute_result"
    }
   ],
   "source": [
    "train_df['Embarked'].describe()\n"
   ]
  },
  {
   "cell_type": "code",
   "execution_count": 19,
   "id": "7ce4c5e1",
   "metadata": {
    "execution": {
     "iopub.execute_input": "2023-08-03T09:20:34.537400Z",
     "iopub.status.busy": "2023-08-03T09:20:34.536971Z",
     "iopub.status.idle": "2023-08-03T09:20:34.545438Z",
     "shell.execute_reply": "2023-08-03T09:20:34.543842Z"
    },
    "papermill": {
     "duration": 0.055596,
     "end_time": "2023-08-03T09:20:34.548239",
     "exception": false,
     "start_time": "2023-08-03T09:20:34.492643",
     "status": "completed"
    },
    "tags": []
   },
   "outputs": [],
   "source": [
    "common_value = 'S'\n",
    "data = [train_df, test_df]\n",
    "\n",
    "for dataset in data:\n",
    "    dataset['Embarked'] = dataset['Embarked'].fillna(common_value)"
   ]
  },
  {
   "cell_type": "markdown",
   "id": "a7247d61",
   "metadata": {
    "papermill": {
     "duration": 0.042367,
     "end_time": "2023-08-03T09:20:34.634751",
     "exception": false,
     "start_time": "2023-08-03T09:20:34.592384",
     "status": "completed"
    },
    "tags": []
   },
   "source": [
    "# Converting Features"
   ]
  },
  {
   "cell_type": "code",
   "execution_count": 20,
   "id": "c87041a1",
   "metadata": {
    "execution": {
     "iopub.execute_input": "2023-08-03T09:20:34.723821Z",
     "iopub.status.busy": "2023-08-03T09:20:34.723154Z",
     "iopub.status.idle": "2023-08-03T09:20:34.738132Z",
     "shell.execute_reply": "2023-08-03T09:20:34.737046Z"
    },
    "papermill": {
     "duration": 0.060982,
     "end_time": "2023-08-03T09:20:34.740884",
     "exception": false,
     "start_time": "2023-08-03T09:20:34.679902",
     "status": "completed"
    },
    "tags": []
   },
   "outputs": [
    {
     "name": "stdout",
     "output_type": "stream",
     "text": [
      "<class 'pandas.core.frame.DataFrame'>\n",
      "RangeIndex: 891 entries, 0 to 890\n",
      "Data columns (total 13 columns):\n",
      " #   Column     Non-Null Count  Dtype  \n",
      "---  ------     --------------  -----  \n",
      " 0   Survived   891 non-null    int64  \n",
      " 1   Pclass     891 non-null    int64  \n",
      " 2   Name       891 non-null    object \n",
      " 3   Sex        891 non-null    object \n",
      " 4   Age        891 non-null    int64  \n",
      " 5   SibSp      891 non-null    int64  \n",
      " 6   Parch      891 non-null    int64  \n",
      " 7   Ticket     891 non-null    object \n",
      " 8   Fare       891 non-null    float64\n",
      " 9   Embarked   891 non-null    object \n",
      " 10  relatives  891 non-null    int64  \n",
      " 11  not_alone  891 non-null    int64  \n",
      " 12  Deck       891 non-null    int64  \n",
      "dtypes: float64(1), int64(8), object(4)\n",
      "memory usage: 90.6+ KB\n"
     ]
    }
   ],
   "source": [
    "train_df.info()"
   ]
  },
  {
   "cell_type": "markdown",
   "id": "025cfdca",
   "metadata": {
    "papermill": {
     "duration": 0.038853,
     "end_time": "2023-08-03T09:20:34.819887",
     "exception": false,
     "start_time": "2023-08-03T09:20:34.781034",
     "status": "completed"
    },
    "tags": []
   },
   "source": [
    "We can see that 'Fare' is a float and we have to deal with 4 objects Name, Sex, Ticket, and Embarked."
   ]
  },
  {
   "cell_type": "markdown",
   "id": "7e94bedd",
   "metadata": {
    "papermill": {
     "duration": 0.039497,
     "end_time": "2023-08-03T09:20:34.898242",
     "exception": false,
     "start_time": "2023-08-03T09:20:34.858745",
     "status": "completed"
    },
    "tags": []
   },
   "source": [
    "**1. Converting features:** Converting 'Fare' from float to int64"
   ]
  },
  {
   "cell_type": "code",
   "execution_count": 21,
   "id": "10be61e3",
   "metadata": {
    "execution": {
     "iopub.execute_input": "2023-08-03T09:20:34.978332Z",
     "iopub.status.busy": "2023-08-03T09:20:34.977522Z",
     "iopub.status.idle": "2023-08-03T09:20:34.984721Z",
     "shell.execute_reply": "2023-08-03T09:20:34.983491Z"
    },
    "papermill": {
     "duration": 0.050174,
     "end_time": "2023-08-03T09:20:34.987295",
     "exception": false,
     "start_time": "2023-08-03T09:20:34.937121",
     "status": "completed"
    },
    "tags": []
   },
   "outputs": [],
   "source": [
    "data = [train_df, test_df]\n",
    "\n",
    "for dataset in data:\n",
    "    dataset['Fare'] = dataset['Fare'].fillna(0)\n",
    "    dataset['Fare'] = dataset['Fare'].astype(int)"
   ]
  },
  {
   "cell_type": "markdown",
   "id": "da9201c3",
   "metadata": {
    "papermill": {
     "duration": 0.039448,
     "end_time": "2023-08-03T09:20:35.066469",
     "exception": false,
     "start_time": "2023-08-03T09:20:35.027021",
     "status": "completed"
    },
    "tags": []
   },
   "source": [
    "**2. Converting features:** Extracting the titles from 'Name' and mapping it to a value for a new feature 'Title'"
   ]
  },
  {
   "cell_type": "code",
   "execution_count": 22,
   "id": "663df072",
   "metadata": {
    "execution": {
     "iopub.execute_input": "2023-08-03T09:20:35.146763Z",
     "iopub.status.busy": "2023-08-03T09:20:35.145972Z",
     "iopub.status.idle": "2023-08-03T09:20:35.173399Z",
     "shell.execute_reply": "2023-08-03T09:20:35.171519Z"
    },
    "papermill": {
     "duration": 0.0709,
     "end_time": "2023-08-03T09:20:35.176417",
     "exception": false,
     "start_time": "2023-08-03T09:20:35.105517",
     "status": "completed"
    },
    "tags": []
   },
   "outputs": [
    {
     "name": "stdout",
     "output_type": "stream",
     "text": [
      "1    517\n",
      "2    185\n",
      "3    126\n",
      "4     40\n",
      "5     23\n",
      "Name: Title, dtype: int64\n"
     ]
    }
   ],
   "source": [
    "data = [train_df, test_df]\n",
    "titles = {\"Mr\": 1, \"Miss\": 2, \"Mrs\": 3, \"Master\": 4, \"Rare\": 5}\n",
    "\n",
    "for dataset in data:\n",
    "    # extract titles\n",
    "    dataset['Title'] = dataset.Name.str.extract(' ([A-Za-z]+)\\.', expand=False)\n",
    "    # replace titles with a more common title or as Rare\n",
    "    dataset['Title'] = dataset['Title'].replace(['Lady', 'Countess','Capt', 'Col','Don', 'Dr',\\\n",
    "                                            'Major', 'Rev', 'Sir', 'Jonkheer', 'Dona'], 'Rare')\n",
    "    dataset['Title'] = dataset['Title'].replace('Mlle', 'Miss')\n",
    "    dataset['Title'] = dataset['Title'].replace('Ms', 'Miss')\n",
    "    dataset['Title'] = dataset['Title'].replace('Mme', 'Mrs')\n",
    "    # convert titles into numbers\n",
    "    dataset['Title'] = dataset['Title'].map(titles)\n",
    "    # filling NaN with 0, to get safe\n",
    "    dataset['Title'] = dataset['Title'].fillna(0)\n",
    "train_df = train_df.drop(['Name'], axis=1)\n",
    "test_df = test_df.drop(['Name'], axis=1)\n",
    "\n",
    "print(train_df['Title'].value_counts().sort_index().head(10))"
   ]
  },
  {
   "cell_type": "markdown",
   "id": "1e58b9a5",
   "metadata": {
    "papermill": {
     "duration": 0.039315,
     "end_time": "2023-08-03T09:20:35.255273",
     "exception": false,
     "start_time": "2023-08-03T09:20:35.215958",
     "status": "completed"
    },
    "tags": []
   },
   "source": [
    "**3. Converting features:** Convert sex to numerical value"
   ]
  },
  {
   "cell_type": "code",
   "execution_count": 23,
   "id": "c53433ce",
   "metadata": {
    "execution": {
     "iopub.execute_input": "2023-08-03T09:20:35.336171Z",
     "iopub.status.busy": "2023-08-03T09:20:35.335420Z",
     "iopub.status.idle": "2023-08-03T09:20:35.345788Z",
     "shell.execute_reply": "2023-08-03T09:20:35.344859Z"
    },
    "papermill": {
     "duration": 0.054061,
     "end_time": "2023-08-03T09:20:35.348665",
     "exception": false,
     "start_time": "2023-08-03T09:20:35.294604",
     "status": "completed"
    },
    "tags": []
   },
   "outputs": [
    {
     "name": "stdout",
     "output_type": "stream",
     "text": [
      "0    577\n",
      "1    314\n",
      "Name: Sex, dtype: int64\n"
     ]
    }
   ],
   "source": [
    "genders = {\"male\": 0, \"female\": 1}\n",
    "data = [train_df, test_df]\n",
    "\n",
    "for dataset in data:\n",
    "    dataset['Sex'] = dataset['Sex'].map(genders)\n",
    "    \n",
    "print(train_df['Sex'].value_counts().sort_index().head(10))"
   ]
  },
  {
   "cell_type": "markdown",
   "id": "b8a07eea",
   "metadata": {
    "papermill": {
     "duration": 0.0395,
     "end_time": "2023-08-03T09:20:35.427910",
     "exception": false,
     "start_time": "2023-08-03T09:20:35.388410",
     "status": "completed"
    },
    "tags": []
   },
   "source": [
    "**4. Converting features:** Tickets. Since there are 681 unique tickets, we will just drop it from the dataset."
   ]
  },
  {
   "cell_type": "code",
   "execution_count": 24,
   "id": "4c0032de",
   "metadata": {
    "execution": {
     "iopub.execute_input": "2023-08-03T09:20:35.509917Z",
     "iopub.status.busy": "2023-08-03T09:20:35.509163Z",
     "iopub.status.idle": "2023-08-03T09:20:35.518587Z",
     "shell.execute_reply": "2023-08-03T09:20:35.517640Z"
    },
    "papermill": {
     "duration": 0.053335,
     "end_time": "2023-08-03T09:20:35.520967",
     "exception": false,
     "start_time": "2023-08-03T09:20:35.467632",
     "status": "completed"
    },
    "tags": []
   },
   "outputs": [
    {
     "data": {
      "text/plain": [
       "count        891\n",
       "unique       681\n",
       "top       347082\n",
       "freq           7\n",
       "Name: Ticket, dtype: object"
      ]
     },
     "execution_count": 24,
     "metadata": {},
     "output_type": "execute_result"
    }
   ],
   "source": [
    "train_df['Ticket'].describe()"
   ]
  },
  {
   "cell_type": "markdown",
   "id": "93e5acc0",
   "metadata": {
    "papermill": {
     "duration": 0.039581,
     "end_time": "2023-08-03T09:20:35.601305",
     "exception": false,
     "start_time": "2023-08-03T09:20:35.561724",
     "status": "completed"
    },
    "tags": []
   },
   "source": [
    "Dropping ticket"
   ]
  },
  {
   "cell_type": "code",
   "execution_count": 25,
   "id": "14d7f119",
   "metadata": {
    "execution": {
     "iopub.execute_input": "2023-08-03T09:20:35.682742Z",
     "iopub.status.busy": "2023-08-03T09:20:35.681941Z",
     "iopub.status.idle": "2023-08-03T09:20:35.690463Z",
     "shell.execute_reply": "2023-08-03T09:20:35.689202Z"
    },
    "papermill": {
     "duration": 0.052547,
     "end_time": "2023-08-03T09:20:35.692979",
     "exception": false,
     "start_time": "2023-08-03T09:20:35.640432",
     "status": "completed"
    },
    "tags": []
   },
   "outputs": [],
   "source": [
    "train_df = train_df.drop(['Ticket'], axis=1)\n",
    "test_df = test_df.drop(['Ticket'], axis=1)"
   ]
  },
  {
   "cell_type": "markdown",
   "id": "0d0d37d8",
   "metadata": {
    "papermill": {
     "duration": 0.03963,
     "end_time": "2023-08-03T09:20:35.772954",
     "exception": false,
     "start_time": "2023-08-03T09:20:35.733324",
     "status": "completed"
    },
    "tags": []
   },
   "source": [
    "**5. Converting features:** Convert Embarked to a numerical value\n"
   ]
  },
  {
   "cell_type": "code",
   "execution_count": 26,
   "id": "e834808c",
   "metadata": {
    "execution": {
     "iopub.execute_input": "2023-08-03T09:20:35.854707Z",
     "iopub.status.busy": "2023-08-03T09:20:35.854273Z",
     "iopub.status.idle": "2023-08-03T09:20:35.863300Z",
     "shell.execute_reply": "2023-08-03T09:20:35.862082Z"
    },
    "papermill": {
     "duration": 0.05288,
     "end_time": "2023-08-03T09:20:35.866213",
     "exception": false,
     "start_time": "2023-08-03T09:20:35.813333",
     "status": "completed"
    },
    "tags": []
   },
   "outputs": [],
   "source": [
    "ports = {\"S\": 0, \"C\": 1, \"Q\": 2}\n",
    "data = [train_df, test_df]\n",
    "\n",
    "for dataset in data:\n",
    "    dataset['Embarked'] = dataset['Embarked'].map(ports)"
   ]
  },
  {
   "cell_type": "markdown",
   "id": "9cfb81c9",
   "metadata": {
    "papermill": {
     "duration": 0.039611,
     "end_time": "2023-08-03T09:20:35.945548",
     "exception": false,
     "start_time": "2023-08-03T09:20:35.905937",
     "status": "completed"
    },
    "tags": []
   },
   "source": [
    "# Creating Categories\n",
    "\n",
    "Creating categories within the features"
   ]
  },
  {
   "cell_type": "code",
   "execution_count": 27,
   "id": "0dddfc9f",
   "metadata": {
    "execution": {
     "iopub.execute_input": "2023-08-03T09:20:36.027734Z",
     "iopub.status.busy": "2023-08-03T09:20:36.026990Z",
     "iopub.status.idle": "2023-08-03T09:20:36.040592Z",
     "shell.execute_reply": "2023-08-03T09:20:36.039384Z"
    },
    "papermill": {
     "duration": 0.057301,
     "end_time": "2023-08-03T09:20:36.043057",
     "exception": false,
     "start_time": "2023-08-03T09:20:35.985756",
     "status": "completed"
    },
    "tags": []
   },
   "outputs": [
    {
     "name": "stdout",
     "output_type": "stream",
     "text": [
      "<class 'pandas.core.frame.DataFrame'>\n",
      "RangeIndex: 891 entries, 0 to 890\n",
      "Data columns (total 12 columns):\n",
      " #   Column     Non-Null Count  Dtype\n",
      "---  ------     --------------  -----\n",
      " 0   Survived   891 non-null    int64\n",
      " 1   Pclass     891 non-null    int64\n",
      " 2   Sex        891 non-null    int64\n",
      " 3   Age        891 non-null    int64\n",
      " 4   SibSp      891 non-null    int64\n",
      " 5   Parch      891 non-null    int64\n",
      " 6   Fare       891 non-null    int64\n",
      " 7   Embarked   891 non-null    int64\n",
      " 8   relatives  891 non-null    int64\n",
      " 9   not_alone  891 non-null    int64\n",
      " 10  Deck       891 non-null    int64\n",
      " 11  Title      891 non-null    int64\n",
      "dtypes: int64(12)\n",
      "memory usage: 83.7 KB\n"
     ]
    }
   ],
   "source": [
    "train_df.info()"
   ]
  },
  {
   "cell_type": "markdown",
   "id": "016bc772",
   "metadata": {
    "papermill": {
     "duration": 0.039954,
     "end_time": "2023-08-03T09:20:36.123219",
     "exception": false,
     "start_time": "2023-08-03T09:20:36.083265",
     "status": "completed"
    },
    "tags": []
   },
   "source": [
    "**1. Creating Categories:** Converting the 'Age' feature to 'AgeGroup' variable."
   ]
  },
  {
   "cell_type": "code",
   "execution_count": 28,
   "id": "ec8e371f",
   "metadata": {
    "execution": {
     "iopub.execute_input": "2023-08-03T09:20:36.205046Z",
     "iopub.status.busy": "2023-08-03T09:20:36.204619Z",
     "iopub.status.idle": "2023-08-03T09:20:36.231643Z",
     "shell.execute_reply": "2023-08-03T09:20:36.230399Z"
    },
    "papermill": {
     "duration": 0.071207,
     "end_time": "2023-08-03T09:20:36.234139",
     "exception": false,
     "start_time": "2023-08-03T09:20:36.162932",
     "status": "completed"
    },
    "tags": []
   },
   "outputs": [
    {
     "data": {
      "text/plain": [
       "4    169\n",
       "6    159\n",
       "5    154\n",
       "3    139\n",
       "2    115\n",
       "1     87\n",
       "0     68\n",
       "Name: Age, dtype: int64"
      ]
     },
     "execution_count": 28,
     "metadata": {},
     "output_type": "execute_result"
    }
   ],
   "source": [
    "data = [train_df, test_df]\n",
    "for dataset in data:\n",
    "    dataset['Age'] = dataset['Age'].astype(int)\n",
    "    dataset.loc[ dataset['Age'] <= 11, 'Age'] = 0\n",
    "    dataset.loc[(dataset['Age'] > 11) & (dataset['Age'] <= 18), 'Age'] = 1\n",
    "    dataset.loc[(dataset['Age'] > 18) & (dataset['Age'] <= 22), 'Age'] = 2\n",
    "    dataset.loc[(dataset['Age'] > 22) & (dataset['Age'] <= 27), 'Age'] = 3\n",
    "    dataset.loc[(dataset['Age'] > 27) & (dataset['Age'] <= 33), 'Age'] = 4\n",
    "    dataset.loc[(dataset['Age'] > 33) & (dataset['Age'] <= 40), 'Age'] = 5\n",
    "    dataset.loc[(dataset['Age'] > 40) & (dataset['Age'] <= 66), 'Age'] = 6\n",
    "    dataset.loc[ dataset['Age'] > 66, 'Age'] = 6\n",
    "\n",
    "# let's see how it's distributed \n",
    "train_df['Age'].value_counts()"
   ]
  },
  {
   "cell_type": "code",
   "execution_count": 29,
   "id": "bf6d3865",
   "metadata": {
    "execution": {
     "iopub.execute_input": "2023-08-03T09:20:36.314773Z",
     "iopub.status.busy": "2023-08-03T09:20:36.314345Z",
     "iopub.status.idle": "2023-08-03T09:20:36.330499Z",
     "shell.execute_reply": "2023-08-03T09:20:36.329302Z"
    },
    "papermill": {
     "duration": 0.059375,
     "end_time": "2023-08-03T09:20:36.333045",
     "exception": false,
     "start_time": "2023-08-03T09:20:36.273670",
     "status": "completed"
    },
    "tags": []
   },
   "outputs": [
    {
     "data": {
      "text/html": [
       "<div>\n",
       "<style scoped>\n",
       "    .dataframe tbody tr th:only-of-type {\n",
       "        vertical-align: middle;\n",
       "    }\n",
       "\n",
       "    .dataframe tbody tr th {\n",
       "        vertical-align: top;\n",
       "    }\n",
       "\n",
       "    .dataframe thead th {\n",
       "        text-align: right;\n",
       "    }\n",
       "</style>\n",
       "<table border=\"1\" class=\"dataframe\">\n",
       "  <thead>\n",
       "    <tr style=\"text-align: right;\">\n",
       "      <th></th>\n",
       "      <th>Survived</th>\n",
       "      <th>Pclass</th>\n",
       "      <th>Sex</th>\n",
       "      <th>Age</th>\n",
       "      <th>SibSp</th>\n",
       "      <th>Parch</th>\n",
       "      <th>Fare</th>\n",
       "      <th>Embarked</th>\n",
       "      <th>relatives</th>\n",
       "      <th>not_alone</th>\n",
       "      <th>Deck</th>\n",
       "      <th>Title</th>\n",
       "    </tr>\n",
       "  </thead>\n",
       "  <tbody>\n",
       "    <tr>\n",
       "      <th>0</th>\n",
       "      <td>0</td>\n",
       "      <td>3</td>\n",
       "      <td>0</td>\n",
       "      <td>2</td>\n",
       "      <td>1</td>\n",
       "      <td>0</td>\n",
       "      <td>7</td>\n",
       "      <td>0</td>\n",
       "      <td>1</td>\n",
       "      <td>0</td>\n",
       "      <td>8</td>\n",
       "      <td>1</td>\n",
       "    </tr>\n",
       "    <tr>\n",
       "      <th>1</th>\n",
       "      <td>1</td>\n",
       "      <td>1</td>\n",
       "      <td>1</td>\n",
       "      <td>5</td>\n",
       "      <td>1</td>\n",
       "      <td>0</td>\n",
       "      <td>71</td>\n",
       "      <td>1</td>\n",
       "      <td>1</td>\n",
       "      <td>0</td>\n",
       "      <td>3</td>\n",
       "      <td>3</td>\n",
       "    </tr>\n",
       "    <tr>\n",
       "      <th>2</th>\n",
       "      <td>1</td>\n",
       "      <td>3</td>\n",
       "      <td>1</td>\n",
       "      <td>3</td>\n",
       "      <td>0</td>\n",
       "      <td>0</td>\n",
       "      <td>7</td>\n",
       "      <td>0</td>\n",
       "      <td>0</td>\n",
       "      <td>1</td>\n",
       "      <td>8</td>\n",
       "      <td>2</td>\n",
       "    </tr>\n",
       "    <tr>\n",
       "      <th>3</th>\n",
       "      <td>1</td>\n",
       "      <td>1</td>\n",
       "      <td>1</td>\n",
       "      <td>5</td>\n",
       "      <td>1</td>\n",
       "      <td>0</td>\n",
       "      <td>53</td>\n",
       "      <td>0</td>\n",
       "      <td>1</td>\n",
       "      <td>0</td>\n",
       "      <td>3</td>\n",
       "      <td>3</td>\n",
       "    </tr>\n",
       "    <tr>\n",
       "      <th>4</th>\n",
       "      <td>0</td>\n",
       "      <td>3</td>\n",
       "      <td>0</td>\n",
       "      <td>5</td>\n",
       "      <td>0</td>\n",
       "      <td>0</td>\n",
       "      <td>8</td>\n",
       "      <td>0</td>\n",
       "      <td>0</td>\n",
       "      <td>1</td>\n",
       "      <td>8</td>\n",
       "      <td>1</td>\n",
       "    </tr>\n",
       "    <tr>\n",
       "      <th>5</th>\n",
       "      <td>0</td>\n",
       "      <td>3</td>\n",
       "      <td>0</td>\n",
       "      <td>1</td>\n",
       "      <td>0</td>\n",
       "      <td>0</td>\n",
       "      <td>8</td>\n",
       "      <td>2</td>\n",
       "      <td>0</td>\n",
       "      <td>1</td>\n",
       "      <td>8</td>\n",
       "      <td>1</td>\n",
       "    </tr>\n",
       "    <tr>\n",
       "      <th>6</th>\n",
       "      <td>0</td>\n",
       "      <td>1</td>\n",
       "      <td>0</td>\n",
       "      <td>6</td>\n",
       "      <td>0</td>\n",
       "      <td>0</td>\n",
       "      <td>51</td>\n",
       "      <td>0</td>\n",
       "      <td>0</td>\n",
       "      <td>1</td>\n",
       "      <td>5</td>\n",
       "      <td>1</td>\n",
       "    </tr>\n",
       "    <tr>\n",
       "      <th>7</th>\n",
       "      <td>0</td>\n",
       "      <td>3</td>\n",
       "      <td>0</td>\n",
       "      <td>0</td>\n",
       "      <td>3</td>\n",
       "      <td>1</td>\n",
       "      <td>21</td>\n",
       "      <td>0</td>\n",
       "      <td>4</td>\n",
       "      <td>0</td>\n",
       "      <td>8</td>\n",
       "      <td>4</td>\n",
       "    </tr>\n",
       "    <tr>\n",
       "      <th>8</th>\n",
       "      <td>1</td>\n",
       "      <td>3</td>\n",
       "      <td>1</td>\n",
       "      <td>3</td>\n",
       "      <td>0</td>\n",
       "      <td>2</td>\n",
       "      <td>11</td>\n",
       "      <td>0</td>\n",
       "      <td>2</td>\n",
       "      <td>0</td>\n",
       "      <td>8</td>\n",
       "      <td>3</td>\n",
       "    </tr>\n",
       "    <tr>\n",
       "      <th>9</th>\n",
       "      <td>1</td>\n",
       "      <td>2</td>\n",
       "      <td>1</td>\n",
       "      <td>1</td>\n",
       "      <td>1</td>\n",
       "      <td>0</td>\n",
       "      <td>30</td>\n",
       "      <td>1</td>\n",
       "      <td>1</td>\n",
       "      <td>0</td>\n",
       "      <td>8</td>\n",
       "      <td>3</td>\n",
       "    </tr>\n",
       "  </tbody>\n",
       "</table>\n",
       "</div>"
      ],
      "text/plain": [
       "   Survived  Pclass  Sex  Age  SibSp  Parch  Fare  Embarked  relatives  \\\n",
       "0         0       3    0    2      1      0     7         0          1   \n",
       "1         1       1    1    5      1      0    71         1          1   \n",
       "2         1       3    1    3      0      0     7         0          0   \n",
       "3         1       1    1    5      1      0    53         0          1   \n",
       "4         0       3    0    5      0      0     8         0          0   \n",
       "5         0       3    0    1      0      0     8         2          0   \n",
       "6         0       1    0    6      0      0    51         0          0   \n",
       "7         0       3    0    0      3      1    21         0          4   \n",
       "8         1       3    1    3      0      2    11         0          2   \n",
       "9         1       2    1    1      1      0    30         1          1   \n",
       "\n",
       "   not_alone  Deck  Title  \n",
       "0          0     8      1  \n",
       "1          0     3      3  \n",
       "2          1     8      2  \n",
       "3          0     3      3  \n",
       "4          1     8      1  \n",
       "5          1     8      1  \n",
       "6          1     5      1  \n",
       "7          0     8      4  \n",
       "8          0     8      3  \n",
       "9          0     8      3  "
      ]
     },
     "execution_count": 29,
     "metadata": {},
     "output_type": "execute_result"
    }
   ],
   "source": [
    "train_df.head(10)\n"
   ]
  },
  {
   "cell_type": "markdown",
   "id": "51949c59",
   "metadata": {
    "papermill": {
     "duration": 0.039854,
     "end_time": "2023-08-03T09:20:36.412782",
     "exception": false,
     "start_time": "2023-08-03T09:20:36.372928",
     "status": "completed"
    },
    "tags": []
   },
   "source": [
    "**2. Creating Categories:** Converting the 'Fare' feature to 'FareGroup' variable."
   ]
  },
  {
   "cell_type": "code",
   "execution_count": 30,
   "id": "28632192",
   "metadata": {
    "execution": {
     "iopub.execute_input": "2023-08-03T09:20:36.494760Z",
     "iopub.status.busy": "2023-08-03T09:20:36.493587Z",
     "iopub.status.idle": "2023-08-03T09:20:36.512673Z",
     "shell.execute_reply": "2023-08-03T09:20:36.511743Z"
    },
    "papermill": {
     "duration": 0.062653,
     "end_time": "2023-08-03T09:20:36.515064",
     "exception": false,
     "start_time": "2023-08-03T09:20:36.452411",
     "status": "completed"
    },
    "tags": []
   },
   "outputs": [],
   "source": [
    "data = [train_df, test_df]\n",
    "\n",
    "for dataset in data:\n",
    "    dataset.loc[ dataset['Fare'] <= 7.91, 'Fare'] = 0\n",
    "    dataset.loc[(dataset['Fare'] > 7.91) & (dataset['Fare'] <= 14.454), 'Fare'] = 1\n",
    "    dataset.loc[(dataset['Fare'] > 14.454) & (dataset['Fare'] <= 31), 'Fare']   = 2\n",
    "    dataset.loc[(dataset['Fare'] > 31) & (dataset['Fare'] <= 99), 'Fare']   = 3\n",
    "    dataset.loc[(dataset['Fare'] > 99) & (dataset['Fare'] <= 250), 'Fare']   = 4\n",
    "    dataset.loc[ dataset['Fare'] > 250, 'Fare'] = 5\n",
    "    dataset['Fare'] = dataset['Fare'].astype(int)"
   ]
  },
  {
   "cell_type": "code",
   "execution_count": 31,
   "id": "a6504bc7",
   "metadata": {
    "execution": {
     "iopub.execute_input": "2023-08-03T09:20:36.599658Z",
     "iopub.status.busy": "2023-08-03T09:20:36.598976Z",
     "iopub.status.idle": "2023-08-03T09:20:36.614630Z",
     "shell.execute_reply": "2023-08-03T09:20:36.613366Z"
    },
    "papermill": {
     "duration": 0.061315,
     "end_time": "2023-08-03T09:20:36.617271",
     "exception": false,
     "start_time": "2023-08-03T09:20:36.555956",
     "status": "completed"
    },
    "tags": []
   },
   "outputs": [
    {
     "data": {
      "text/html": [
       "<div>\n",
       "<style scoped>\n",
       "    .dataframe tbody tr th:only-of-type {\n",
       "        vertical-align: middle;\n",
       "    }\n",
       "\n",
       "    .dataframe tbody tr th {\n",
       "        vertical-align: top;\n",
       "    }\n",
       "\n",
       "    .dataframe thead th {\n",
       "        text-align: right;\n",
       "    }\n",
       "</style>\n",
       "<table border=\"1\" class=\"dataframe\">\n",
       "  <thead>\n",
       "    <tr style=\"text-align: right;\">\n",
       "      <th></th>\n",
       "      <th>Survived</th>\n",
       "      <th>Pclass</th>\n",
       "      <th>Sex</th>\n",
       "      <th>Age</th>\n",
       "      <th>SibSp</th>\n",
       "      <th>Parch</th>\n",
       "      <th>Fare</th>\n",
       "      <th>Embarked</th>\n",
       "      <th>relatives</th>\n",
       "      <th>not_alone</th>\n",
       "      <th>Deck</th>\n",
       "      <th>Title</th>\n",
       "    </tr>\n",
       "  </thead>\n",
       "  <tbody>\n",
       "    <tr>\n",
       "      <th>0</th>\n",
       "      <td>0</td>\n",
       "      <td>3</td>\n",
       "      <td>0</td>\n",
       "      <td>2</td>\n",
       "      <td>1</td>\n",
       "      <td>0</td>\n",
       "      <td>0</td>\n",
       "      <td>0</td>\n",
       "      <td>1</td>\n",
       "      <td>0</td>\n",
       "      <td>8</td>\n",
       "      <td>1</td>\n",
       "    </tr>\n",
       "    <tr>\n",
       "      <th>1</th>\n",
       "      <td>1</td>\n",
       "      <td>1</td>\n",
       "      <td>1</td>\n",
       "      <td>5</td>\n",
       "      <td>1</td>\n",
       "      <td>0</td>\n",
       "      <td>3</td>\n",
       "      <td>1</td>\n",
       "      <td>1</td>\n",
       "      <td>0</td>\n",
       "      <td>3</td>\n",
       "      <td>3</td>\n",
       "    </tr>\n",
       "    <tr>\n",
       "      <th>2</th>\n",
       "      <td>1</td>\n",
       "      <td>3</td>\n",
       "      <td>1</td>\n",
       "      <td>3</td>\n",
       "      <td>0</td>\n",
       "      <td>0</td>\n",
       "      <td>0</td>\n",
       "      <td>0</td>\n",
       "      <td>0</td>\n",
       "      <td>1</td>\n",
       "      <td>8</td>\n",
       "      <td>2</td>\n",
       "    </tr>\n",
       "    <tr>\n",
       "      <th>3</th>\n",
       "      <td>1</td>\n",
       "      <td>1</td>\n",
       "      <td>1</td>\n",
       "      <td>5</td>\n",
       "      <td>1</td>\n",
       "      <td>0</td>\n",
       "      <td>3</td>\n",
       "      <td>0</td>\n",
       "      <td>1</td>\n",
       "      <td>0</td>\n",
       "      <td>3</td>\n",
       "      <td>3</td>\n",
       "    </tr>\n",
       "    <tr>\n",
       "      <th>4</th>\n",
       "      <td>0</td>\n",
       "      <td>3</td>\n",
       "      <td>0</td>\n",
       "      <td>5</td>\n",
       "      <td>0</td>\n",
       "      <td>0</td>\n",
       "      <td>1</td>\n",
       "      <td>0</td>\n",
       "      <td>0</td>\n",
       "      <td>1</td>\n",
       "      <td>8</td>\n",
       "      <td>1</td>\n",
       "    </tr>\n",
       "    <tr>\n",
       "      <th>5</th>\n",
       "      <td>0</td>\n",
       "      <td>3</td>\n",
       "      <td>0</td>\n",
       "      <td>1</td>\n",
       "      <td>0</td>\n",
       "      <td>0</td>\n",
       "      <td>1</td>\n",
       "      <td>2</td>\n",
       "      <td>0</td>\n",
       "      <td>1</td>\n",
       "      <td>8</td>\n",
       "      <td>1</td>\n",
       "    </tr>\n",
       "    <tr>\n",
       "      <th>6</th>\n",
       "      <td>0</td>\n",
       "      <td>1</td>\n",
       "      <td>0</td>\n",
       "      <td>6</td>\n",
       "      <td>0</td>\n",
       "      <td>0</td>\n",
       "      <td>3</td>\n",
       "      <td>0</td>\n",
       "      <td>0</td>\n",
       "      <td>1</td>\n",
       "      <td>5</td>\n",
       "      <td>1</td>\n",
       "    </tr>\n",
       "    <tr>\n",
       "      <th>7</th>\n",
       "      <td>0</td>\n",
       "      <td>3</td>\n",
       "      <td>0</td>\n",
       "      <td>0</td>\n",
       "      <td>3</td>\n",
       "      <td>1</td>\n",
       "      <td>2</td>\n",
       "      <td>0</td>\n",
       "      <td>4</td>\n",
       "      <td>0</td>\n",
       "      <td>8</td>\n",
       "      <td>4</td>\n",
       "    </tr>\n",
       "    <tr>\n",
       "      <th>8</th>\n",
       "      <td>1</td>\n",
       "      <td>3</td>\n",
       "      <td>1</td>\n",
       "      <td>3</td>\n",
       "      <td>0</td>\n",
       "      <td>2</td>\n",
       "      <td>1</td>\n",
       "      <td>0</td>\n",
       "      <td>2</td>\n",
       "      <td>0</td>\n",
       "      <td>8</td>\n",
       "      <td>3</td>\n",
       "    </tr>\n",
       "    <tr>\n",
       "      <th>9</th>\n",
       "      <td>1</td>\n",
       "      <td>2</td>\n",
       "      <td>1</td>\n",
       "      <td>1</td>\n",
       "      <td>1</td>\n",
       "      <td>0</td>\n",
       "      <td>2</td>\n",
       "      <td>1</td>\n",
       "      <td>1</td>\n",
       "      <td>0</td>\n",
       "      <td>8</td>\n",
       "      <td>3</td>\n",
       "    </tr>\n",
       "  </tbody>\n",
       "</table>\n",
       "</div>"
      ],
      "text/plain": [
       "   Survived  Pclass  Sex  Age  SibSp  Parch  Fare  Embarked  relatives  \\\n",
       "0         0       3    0    2      1      0     0         0          1   \n",
       "1         1       1    1    5      1      0     3         1          1   \n",
       "2         1       3    1    3      0      0     0         0          0   \n",
       "3         1       1    1    5      1      0     3         0          1   \n",
       "4         0       3    0    5      0      0     1         0          0   \n",
       "5         0       3    0    1      0      0     1         2          0   \n",
       "6         0       1    0    6      0      0     3         0          0   \n",
       "7         0       3    0    0      3      1     2         0          4   \n",
       "8         1       3    1    3      0      2     1         0          2   \n",
       "9         1       2    1    1      1      0     2         1          1   \n",
       "\n",
       "   not_alone  Deck  Title  \n",
       "0          0     8      1  \n",
       "1          0     3      3  \n",
       "2          1     8      2  \n",
       "3          0     3      3  \n",
       "4          1     8      1  \n",
       "5          1     8      1  \n",
       "6          1     5      1  \n",
       "7          0     8      4  \n",
       "8          0     8      3  \n",
       "9          0     8      3  "
      ]
     },
     "execution_count": 31,
     "metadata": {},
     "output_type": "execute_result"
    }
   ],
   "source": [
    "train_df.head(10)\n"
   ]
  },
  {
   "cell_type": "markdown",
   "id": "25a245c2",
   "metadata": {
    "papermill": {
     "duration": 0.040738,
     "end_time": "2023-08-03T09:20:36.698540",
     "exception": false,
     "start_time": "2023-08-03T09:20:36.657802",
     "status": "completed"
    },
    "tags": []
   },
   "source": [
    "# Creating new Features"
   ]
  },
  {
   "cell_type": "markdown",
   "id": "ce45d138",
   "metadata": {
    "papermill": {
     "duration": 0.039947,
     "end_time": "2023-08-03T09:20:36.778764",
     "exception": false,
     "start_time": "2023-08-03T09:20:36.738817",
     "status": "completed"
    },
    "tags": []
   },
   "source": [
    "**1. Age times Class**"
   ]
  },
  {
   "cell_type": "code",
   "execution_count": 32,
   "id": "25104194",
   "metadata": {
    "execution": {
     "iopub.execute_input": "2023-08-03T09:20:36.861173Z",
     "iopub.status.busy": "2023-08-03T09:20:36.860496Z",
     "iopub.status.idle": "2023-08-03T09:20:36.866699Z",
     "shell.execute_reply": "2023-08-03T09:20:36.865888Z"
    },
    "papermill": {
     "duration": 0.049925,
     "end_time": "2023-08-03T09:20:36.868976",
     "exception": false,
     "start_time": "2023-08-03T09:20:36.819051",
     "status": "completed"
    },
    "tags": []
   },
   "outputs": [],
   "source": [
    "data = [train_df, test_df]\n",
    "for dataset in data:\n",
    "    dataset['Age_Class']= dataset['Age']* dataset['Pclass']"
   ]
  },
  {
   "cell_type": "markdown",
   "id": "8fa151c8",
   "metadata": {
    "papermill": {
     "duration": 0.040143,
     "end_time": "2023-08-03T09:20:36.949520",
     "exception": false,
     "start_time": "2023-08-03T09:20:36.909377",
     "status": "completed"
    },
    "tags": []
   },
   "source": [
    "**2. Fare per Person**"
   ]
  },
  {
   "cell_type": "code",
   "execution_count": 33,
   "id": "8a3d0f43",
   "metadata": {
    "execution": {
     "iopub.execute_input": "2023-08-03T09:20:37.032257Z",
     "iopub.status.busy": "2023-08-03T09:20:37.031583Z",
     "iopub.status.idle": "2023-08-03T09:20:37.051260Z",
     "shell.execute_reply": "2023-08-03T09:20:37.050117Z"
    },
    "papermill": {
     "duration": 0.064226,
     "end_time": "2023-08-03T09:20:37.053912",
     "exception": false,
     "start_time": "2023-08-03T09:20:36.989686",
     "status": "completed"
    },
    "tags": []
   },
   "outputs": [
    {
     "data": {
      "text/html": [
       "<div>\n",
       "<style scoped>\n",
       "    .dataframe tbody tr th:only-of-type {\n",
       "        vertical-align: middle;\n",
       "    }\n",
       "\n",
       "    .dataframe tbody tr th {\n",
       "        vertical-align: top;\n",
       "    }\n",
       "\n",
       "    .dataframe thead th {\n",
       "        text-align: right;\n",
       "    }\n",
       "</style>\n",
       "<table border=\"1\" class=\"dataframe\">\n",
       "  <thead>\n",
       "    <tr style=\"text-align: right;\">\n",
       "      <th></th>\n",
       "      <th>Survived</th>\n",
       "      <th>Pclass</th>\n",
       "      <th>Sex</th>\n",
       "      <th>Age</th>\n",
       "      <th>SibSp</th>\n",
       "      <th>Parch</th>\n",
       "      <th>Fare</th>\n",
       "      <th>Embarked</th>\n",
       "      <th>relatives</th>\n",
       "      <th>not_alone</th>\n",
       "      <th>Deck</th>\n",
       "      <th>Title</th>\n",
       "      <th>Age_Class</th>\n",
       "      <th>Fare_Per_Person</th>\n",
       "    </tr>\n",
       "  </thead>\n",
       "  <tbody>\n",
       "    <tr>\n",
       "      <th>0</th>\n",
       "      <td>0</td>\n",
       "      <td>3</td>\n",
       "      <td>0</td>\n",
       "      <td>2</td>\n",
       "      <td>1</td>\n",
       "      <td>0</td>\n",
       "      <td>0</td>\n",
       "      <td>0</td>\n",
       "      <td>1</td>\n",
       "      <td>0</td>\n",
       "      <td>8</td>\n",
       "      <td>1</td>\n",
       "      <td>6</td>\n",
       "      <td>0</td>\n",
       "    </tr>\n",
       "    <tr>\n",
       "      <th>1</th>\n",
       "      <td>1</td>\n",
       "      <td>1</td>\n",
       "      <td>1</td>\n",
       "      <td>5</td>\n",
       "      <td>1</td>\n",
       "      <td>0</td>\n",
       "      <td>3</td>\n",
       "      <td>1</td>\n",
       "      <td>1</td>\n",
       "      <td>0</td>\n",
       "      <td>3</td>\n",
       "      <td>3</td>\n",
       "      <td>5</td>\n",
       "      <td>1</td>\n",
       "    </tr>\n",
       "    <tr>\n",
       "      <th>2</th>\n",
       "      <td>1</td>\n",
       "      <td>3</td>\n",
       "      <td>1</td>\n",
       "      <td>3</td>\n",
       "      <td>0</td>\n",
       "      <td>0</td>\n",
       "      <td>0</td>\n",
       "      <td>0</td>\n",
       "      <td>0</td>\n",
       "      <td>1</td>\n",
       "      <td>8</td>\n",
       "      <td>2</td>\n",
       "      <td>9</td>\n",
       "      <td>0</td>\n",
       "    </tr>\n",
       "    <tr>\n",
       "      <th>3</th>\n",
       "      <td>1</td>\n",
       "      <td>1</td>\n",
       "      <td>1</td>\n",
       "      <td>5</td>\n",
       "      <td>1</td>\n",
       "      <td>0</td>\n",
       "      <td>3</td>\n",
       "      <td>0</td>\n",
       "      <td>1</td>\n",
       "      <td>0</td>\n",
       "      <td>3</td>\n",
       "      <td>3</td>\n",
       "      <td>5</td>\n",
       "      <td>1</td>\n",
       "    </tr>\n",
       "    <tr>\n",
       "      <th>4</th>\n",
       "      <td>0</td>\n",
       "      <td>3</td>\n",
       "      <td>0</td>\n",
       "      <td>5</td>\n",
       "      <td>0</td>\n",
       "      <td>0</td>\n",
       "      <td>1</td>\n",
       "      <td>0</td>\n",
       "      <td>0</td>\n",
       "      <td>1</td>\n",
       "      <td>8</td>\n",
       "      <td>1</td>\n",
       "      <td>15</td>\n",
       "      <td>1</td>\n",
       "    </tr>\n",
       "    <tr>\n",
       "      <th>5</th>\n",
       "      <td>0</td>\n",
       "      <td>3</td>\n",
       "      <td>0</td>\n",
       "      <td>1</td>\n",
       "      <td>0</td>\n",
       "      <td>0</td>\n",
       "      <td>1</td>\n",
       "      <td>2</td>\n",
       "      <td>0</td>\n",
       "      <td>1</td>\n",
       "      <td>8</td>\n",
       "      <td>1</td>\n",
       "      <td>3</td>\n",
       "      <td>1</td>\n",
       "    </tr>\n",
       "    <tr>\n",
       "      <th>6</th>\n",
       "      <td>0</td>\n",
       "      <td>1</td>\n",
       "      <td>0</td>\n",
       "      <td>6</td>\n",
       "      <td>0</td>\n",
       "      <td>0</td>\n",
       "      <td>3</td>\n",
       "      <td>0</td>\n",
       "      <td>0</td>\n",
       "      <td>1</td>\n",
       "      <td>5</td>\n",
       "      <td>1</td>\n",
       "      <td>6</td>\n",
       "      <td>3</td>\n",
       "    </tr>\n",
       "    <tr>\n",
       "      <th>7</th>\n",
       "      <td>0</td>\n",
       "      <td>3</td>\n",
       "      <td>0</td>\n",
       "      <td>0</td>\n",
       "      <td>3</td>\n",
       "      <td>1</td>\n",
       "      <td>2</td>\n",
       "      <td>0</td>\n",
       "      <td>4</td>\n",
       "      <td>0</td>\n",
       "      <td>8</td>\n",
       "      <td>4</td>\n",
       "      <td>0</td>\n",
       "      <td>0</td>\n",
       "    </tr>\n",
       "    <tr>\n",
       "      <th>8</th>\n",
       "      <td>1</td>\n",
       "      <td>3</td>\n",
       "      <td>1</td>\n",
       "      <td>3</td>\n",
       "      <td>0</td>\n",
       "      <td>2</td>\n",
       "      <td>1</td>\n",
       "      <td>0</td>\n",
       "      <td>2</td>\n",
       "      <td>0</td>\n",
       "      <td>8</td>\n",
       "      <td>3</td>\n",
       "      <td>9</td>\n",
       "      <td>0</td>\n",
       "    </tr>\n",
       "    <tr>\n",
       "      <th>9</th>\n",
       "      <td>1</td>\n",
       "      <td>2</td>\n",
       "      <td>1</td>\n",
       "      <td>1</td>\n",
       "      <td>1</td>\n",
       "      <td>0</td>\n",
       "      <td>2</td>\n",
       "      <td>1</td>\n",
       "      <td>1</td>\n",
       "      <td>0</td>\n",
       "      <td>8</td>\n",
       "      <td>3</td>\n",
       "      <td>2</td>\n",
       "      <td>1</td>\n",
       "    </tr>\n",
       "  </tbody>\n",
       "</table>\n",
       "</div>"
      ],
      "text/plain": [
       "   Survived  Pclass  Sex  Age  SibSp  Parch  Fare  Embarked  relatives  \\\n",
       "0         0       3    0    2      1      0     0         0          1   \n",
       "1         1       1    1    5      1      0     3         1          1   \n",
       "2         1       3    1    3      0      0     0         0          0   \n",
       "3         1       1    1    5      1      0     3         0          1   \n",
       "4         0       3    0    5      0      0     1         0          0   \n",
       "5         0       3    0    1      0      0     1         2          0   \n",
       "6         0       1    0    6      0      0     3         0          0   \n",
       "7         0       3    0    0      3      1     2         0          4   \n",
       "8         1       3    1    3      0      2     1         0          2   \n",
       "9         1       2    1    1      1      0     2         1          1   \n",
       "\n",
       "   not_alone  Deck  Title  Age_Class  Fare_Per_Person  \n",
       "0          0     8      1          6                0  \n",
       "1          0     3      3          5                1  \n",
       "2          1     8      2          9                0  \n",
       "3          0     3      3          5                1  \n",
       "4          1     8      1         15                1  \n",
       "5          1     8      1          3                1  \n",
       "6          1     5      1          6                3  \n",
       "7          0     8      4          0                0  \n",
       "8          0     8      3          9                0  \n",
       "9          0     8      3          2                1  "
      ]
     },
     "execution_count": 33,
     "metadata": {},
     "output_type": "execute_result"
    }
   ],
   "source": [
    "for dataset in data:\n",
    "    dataset['Fare_Per_Person'] = dataset['Fare']/(dataset['relatives']+1)\n",
    "    dataset['Fare_Per_Person'] = dataset['Fare_Per_Person'].astype(int)\n",
    "# Let's take a last look at the training set, before we start training the models.\n",
    "train_df.head(10)"
   ]
  },
  {
   "cell_type": "markdown",
   "id": "d122ebfe",
   "metadata": {
    "papermill": {
     "duration": 0.040792,
     "end_time": "2023-08-03T09:20:37.136383",
     "exception": false,
     "start_time": "2023-08-03T09:20:37.095591",
     "status": "completed"
    },
    "tags": []
   },
   "source": [
    "# Building the Machine Learning Models"
   ]
  },
  {
   "cell_type": "markdown",
   "id": "1823cc14",
   "metadata": {
    "papermill": {
     "duration": 0.040887,
     "end_time": "2023-08-03T09:20:37.218167",
     "exception": false,
     "start_time": "2023-08-03T09:20:37.177280",
     "status": "completed"
    },
    "tags": []
   },
   "source": [
    "Here we create the 'X_train' training feature set by dropping the 'Survived' column  from the original 'train_df' DataFrame. The 'Survived' column is the target variable, the outcome we want to predict. In Machine Learning, it's common to separate the features(input variables) from the target variable so the model can learn from the features to predict the target.\n",
    "\n",
    "We create the 'Y_train' training target set by extracting the 'Survive column'. This column contains the labels corresponding to each row in the training data. It represents whether a passenger survived(1) or not(0).\n",
    "\n",
    "We create the 'X_test' testing feature set using the 'test_df' DataFrame. Similar to train_df, we drop the 'PassengerId' column since it is not a feature used for prediction. We create a copy of the resulting DataFrame to avoid potential data leakage."
   ]
  },
  {
   "cell_type": "code",
   "execution_count": 34,
   "id": "7c8c20d3",
   "metadata": {
    "execution": {
     "iopub.execute_input": "2023-08-03T09:20:37.303027Z",
     "iopub.status.busy": "2023-08-03T09:20:37.302284Z",
     "iopub.status.idle": "2023-08-03T09:20:37.310021Z",
     "shell.execute_reply": "2023-08-03T09:20:37.309100Z"
    },
    "papermill": {
     "duration": 0.053465,
     "end_time": "2023-08-03T09:20:37.312450",
     "exception": false,
     "start_time": "2023-08-03T09:20:37.258985",
     "status": "completed"
    },
    "tags": []
   },
   "outputs": [],
   "source": [
    "X_train = train_df.drop(\"Survived\", axis=1) \n",
    "Y_train = train_df[\"Survived\"]\n",
    "X_test  = test_df.drop(\"PassengerId\", axis=1).copy()"
   ]
  },
  {
   "cell_type": "markdown",
   "id": "34631b1d",
   "metadata": {
    "papermill": {
     "duration": 0.040727,
     "end_time": "2023-08-03T09:20:37.394587",
     "exception": false,
     "start_time": "2023-08-03T09:20:37.353860",
     "status": "completed"
    },
    "tags": []
   },
   "source": [
    "# Stochastic Gradient Descent (SGD)\n",
    "Stochastic Gradient Descent is an optimization algorithm commonly used to train linear classifiers like the 'SGDClassifier' in scikit-learn. It is a variant of gradient descent, a first-order iterative optimization algorithm for finding the minimum of a function."
   ]
  },
  {
   "cell_type": "code",
   "execution_count": 35,
   "id": "e4037d93",
   "metadata": {
    "execution": {
     "iopub.execute_input": "2023-08-03T09:20:37.478859Z",
     "iopub.status.busy": "2023-08-03T09:20:37.478090Z",
     "iopub.status.idle": "2023-08-03T09:20:37.506038Z",
     "shell.execute_reply": "2023-08-03T09:20:37.504158Z"
    },
    "papermill": {
     "duration": 0.075029,
     "end_time": "2023-08-03T09:20:37.510604",
     "exception": false,
     "start_time": "2023-08-03T09:20:37.435575",
     "status": "completed"
    },
    "tags": []
   },
   "outputs": [],
   "source": [
    "sgd = linear_model.SGDClassifier(max_iter=5, tol=None)\n",
    "sgd.fit(X_train, Y_train)\n",
    "Y_pred = sgd.predict(X_test)\n",
    "\n",
    "sgd.score(X_train, Y_train)\n",
    "\n",
    "acc_sgd = round(sgd.score(X_train, Y_train) * 100, 2)"
   ]
  },
  {
   "cell_type": "markdown",
   "id": "92b6d07f",
   "metadata": {
    "papermill": {
     "duration": 0.052923,
     "end_time": "2023-08-03T09:20:37.651537",
     "exception": false,
     "start_time": "2023-08-03T09:20:37.598614",
     "status": "completed"
    },
    "tags": []
   },
   "source": [
    "* sgd = linear_model.SGDClassifier(max_iter=5, tol=None): Here, we create an instance of the SGDClassifier with the specified hyperparameters. max_iter=5 indicates that the algorithm will run for a maximum of 5 epochs (iterations) through the entire dataset. The tol=None parameter sets the tolerance for stopping criteria, and if set to None, the training will run for the specified maximum number of iterations.\n",
    "\n",
    "* sgd.fit(X_train, Y_train): This line trains the SGDClassifier on the training data X_train with the corresponding target labels Y_train. The algorithm learns the optimal weights for the linear classifier to make predictions based on the features.\n",
    "\n",
    "* Y_pred = sgd.predict(X_test): After training the classifier, we use it to make predictions on the testing data X_test. The predicted labels are stored in Y_pred.\n",
    "\n",
    "* sgd.score(X_train, Y_train): This line computes the accuracy of the trained classifier on the training data. It compares the predicted labels for X_train (which were obtained during training) with the actual target labels Y_train and calculates the accuracy as the percentage of correct predictions.\n",
    "\n",
    "* acc_sgd = round(sgd.score(X_train, Y_train) * 100, 2): Finally, the accuracy score obtained in the previous step is rounded to two decimal places and stored in the variable acc_sgd."
   ]
  },
  {
   "cell_type": "markdown",
   "id": "8e7d0349",
   "metadata": {
    "papermill": {
     "duration": 0.040985,
     "end_time": "2023-08-03T09:20:37.733232",
     "exception": false,
     "start_time": "2023-08-03T09:20:37.692247",
     "status": "completed"
    },
    "tags": []
   },
   "source": [
    "# Random Forest\n",
    "Random Forest is an ensemble learning method that builds multiple decision trees and combines their predictions to make more accurate and robust classifications. It helps reduce overfitting and provides better generalization performance compared to individual decision trees."
   ]
  },
  {
   "cell_type": "code",
   "execution_count": 36,
   "id": "b307be8b",
   "metadata": {
    "execution": {
     "iopub.execute_input": "2023-08-03T09:20:37.817972Z",
     "iopub.status.busy": "2023-08-03T09:20:37.817597Z",
     "iopub.status.idle": "2023-08-03T09:20:38.190190Z",
     "shell.execute_reply": "2023-08-03T09:20:38.188930Z"
    },
    "papermill": {
     "duration": 0.418677,
     "end_time": "2023-08-03T09:20:38.192989",
     "exception": false,
     "start_time": "2023-08-03T09:20:37.774312",
     "status": "completed"
    },
    "tags": []
   },
   "outputs": [],
   "source": [
    "random_forest = RandomForestClassifier(n_estimators=100)\n",
    "random_forest.fit(X_train, Y_train)\n",
    "\n",
    "Y_prediction = random_forest.predict(X_test)\n",
    "\n",
    "random_forest.score(X_train, Y_train)\n",
    "acc_random_forest = round(random_forest.score(X_train, Y_train) * 100, 2)"
   ]
  },
  {
   "cell_type": "markdown",
   "id": "d2d8a74c",
   "metadata": {
    "papermill": {
     "duration": 0.040472,
     "end_time": "2023-08-03T09:20:38.274424",
     "exception": false,
     "start_time": "2023-08-03T09:20:38.233952",
     "status": "completed"
    },
    "tags": []
   },
   "source": [
    "* random_forest = RandomForestClassifier(n_estimators=100): Here, we create an instance of the RandomForestClassifier class with n_estimators=100. The n_estimators parameter specifies the number of decision trees that will be used to build the random forest. In this case, we are using 100 decision trees.\n",
    "\n",
    "* random_forest.fit(X_train, Y_train): This line trains the Random Forest classifier on the training data X_train with the corresponding target labels Y_train. The algorithm builds multiple decision trees, each using a random subset of features and data points to make predictions.\n",
    "\n",
    "* Y_prediction = random_forest.predict(X_test): After training the classifier, we use it to make predictions on the testing data X_test. The predicted labels are stored in Y_prediction.\n",
    "\n",
    "* random_forest.score(X_train, Y_train): This line computes the accuracy of the trained Random Forest classifier on the training data. It compares the predicted labels for X_train (which were obtained during training) with the actual target labels Y_train and calculates the accuracy as the percentage of correct predictions.\n",
    "\n",
    "* acc_random_forest = round(random_forest.score(X_train, Y_train) * 100, 2): Finally, the accuracy score obtained in the previous step is rounded to two decimal places and stored in the variable acc_random_forest."
   ]
  },
  {
   "cell_type": "markdown",
   "id": "729d9096",
   "metadata": {
    "papermill": {
     "duration": 0.040677,
     "end_time": "2023-08-03T09:20:38.355999",
     "exception": false,
     "start_time": "2023-08-03T09:20:38.315322",
     "status": "completed"
    },
    "tags": []
   },
   "source": [
    "# Logistic Regression\n",
    "Logistic Regression is a statistical method used for binary classification tasks, where the goal is to predict one of two possible outcomes. It is a linear classification algorithm that works by modeling the relationship between the input features (independent variables) and the binary output (dependent variable) using the logistic function. The logistic function maps the predicted values to the range [0, 1], representing the probability of the positive class. If the probability is greater than or equal to a specified threshold (usually 0.5), the sample is classified as the positive class; otherwise, it is classified as the negative class. In the context of machine learning, it is a supervised learning algorithm used for binary classification problems (e.g. yes/no, true/false, 0/1).  "
   ]
  },
  {
   "cell_type": "code",
   "execution_count": 37,
   "id": "e2a3865a",
   "metadata": {
    "execution": {
     "iopub.execute_input": "2023-08-03T09:20:38.442078Z",
     "iopub.status.busy": "2023-08-03T09:20:38.440694Z",
     "iopub.status.idle": "2023-08-03T09:20:38.524003Z",
     "shell.execute_reply": "2023-08-03T09:20:38.522380Z"
    },
    "papermill": {
     "duration": 0.131491,
     "end_time": "2023-08-03T09:20:38.528434",
     "exception": false,
     "start_time": "2023-08-03T09:20:38.396943",
     "status": "completed"
    },
    "tags": []
   },
   "outputs": [],
   "source": [
    "logreg = LogisticRegression(max_iter=1000)\n",
    "logreg.fit(X_train, Y_train)\n",
    "\n",
    "Y_pred = logreg.predict(X_test)\n",
    "\n",
    "acc_log = round(logreg.score(X_train, Y_train) * 100, 2)"
   ]
  },
  {
   "cell_type": "markdown",
   "id": "4902c140",
   "metadata": {
    "papermill": {
     "duration": 0.071837,
     "end_time": "2023-08-03T09:20:38.689644",
     "exception": false,
     "start_time": "2023-08-03T09:20:38.617807",
     "status": "completed"
    },
    "tags": []
   },
   "source": [
    "* logreg = LogisticRegression(max_iter=1000): This line creates an instance of the LogisticRegression class with the max_iter parameter set to 1000. The max_iter parameter specifies the maximum number of iterations for the optimization algorithm to converge.\n",
    "\n",
    "* logreg.fit(X_train, Y_train): This line trains the logistic regression model on the training data X_train with the corresponding target labels Y_train. During training, the algorithm adjusts the model's parameters to find the best-fit line (or hyperplane in higher dimensions) that separates the two classes in the data.\n",
    "\n",
    "* Y_pred = logreg.predict(X_test): After training the logistic regression model, we use it to make predictions on the testing data X_test. The predicted labels are stored in Y_pred.\n",
    "\n",
    "* acc_log = round(logreg.score(X_train, Y_train) * 100, 2): This line calculates the accuracy of the logistic regression model on the training data. It compares the predicted labels for X_train (which were obtained during training) with the actual target labels Y_train and calculates the accuracy as the percentage of correct predictions."
   ]
  },
  {
   "cell_type": "markdown",
   "id": "65e4b000",
   "metadata": {
    "papermill": {
     "duration": 0.040759,
     "end_time": "2023-08-03T09:20:38.775987",
     "exception": false,
     "start_time": "2023-08-03T09:20:38.735228",
     "status": "completed"
    },
    "tags": []
   },
   "source": [
    "# K Nearest Neighbour\n",
    "K Nearest Neighbors (KNN) is a simple and intuitive algorithm used for both classification and regression tasks in machine learning. In KNN, when given a new input (a test sample), the algorithm searches for the \"k\" closest data points (neighbors) in the training set to that input. The value of \"k\" is a hyperparameter set by the user, determining the number of neighbors to consider. KNN is especially useful when the decision boundaries between classes are highly non-linear or when the dataset has no clear mathematical structure. However, it can be computationally expensive for large datasets since it requires computing the distances between each data point and all other data points in the training set. Additionally, selecting an appropriate value for \"k\" is important, as too small or too large values can lead to overfitting or underfitting. KNN is often used in applications such as image recognition, recommendation systems, and anomaly detection."
   ]
  },
  {
   "cell_type": "code",
   "execution_count": 38,
   "id": "0d9df532",
   "metadata": {
    "execution": {
     "iopub.execute_input": "2023-08-03T09:20:38.860819Z",
     "iopub.status.busy": "2023-08-03T09:20:38.860374Z",
     "iopub.status.idle": "2023-08-03T09:20:38.933782Z",
     "shell.execute_reply": "2023-08-03T09:20:38.932533Z"
    },
    "papermill": {
     "duration": 0.118682,
     "end_time": "2023-08-03T09:20:38.936492",
     "exception": false,
     "start_time": "2023-08-03T09:20:38.817810",
     "status": "completed"
    },
    "tags": []
   },
   "outputs": [],
   "source": [
    "# KNN \n",
    "knn = KNeighborsClassifier(n_neighbors = 3)\n",
    "knn.fit(X_train, Y_train)\n",
    "Y_pred = knn.predict(X_test)\n",
    "acc_knn = round(knn.score(X_train, Y_train) * 100, 2)"
   ]
  },
  {
   "cell_type": "markdown",
   "id": "bf27a202",
   "metadata": {
    "papermill": {
     "duration": 0.040572,
     "end_time": "2023-08-03T09:20:39.023297",
     "exception": false,
     "start_time": "2023-08-03T09:20:38.982725",
     "status": "completed"
    },
    "tags": []
   },
   "source": [
    "* knn = KNeighborsClassifier(n_neighbors = 3): This line creates an instance of the KNeighborsClassifier class with \"k\" set to 3. It means the algorithm will consider the three nearest neighbors when making predictions.\n",
    "\n",
    "* knn.fit(X_train, Y_train): This line fits (or trains) the KNN model on the training data X_train with the corresponding target labels Y_train. During training, the algorithm memorizes the feature patterns of each training instance.\n",
    "\n",
    "* Y_pred = knn.predict(X_test): After training the KNN model, we use it to predict the labels of the test data X_test. For each test sample, the algorithm finds its three nearest neighbors in the training data and assigns the label that appears most frequently among these neighbors as the predicted label for the test sample.\n",
    "\n",
    "* acc_knn = round(knn.score(X_train, Y_train) * 100, 2): This line calculates the accuracy of the KNN model on the training data. It compares the predicted labels for X_train (which were obtained during training) with the actual target labels Y_train and calculates the accuracy as the percentage of correct predictions."
   ]
  },
  {
   "cell_type": "markdown",
   "id": "a9a79567",
   "metadata": {
    "papermill": {
     "duration": 0.040739,
     "end_time": "2023-08-03T09:20:39.105950",
     "exception": false,
     "start_time": "2023-08-03T09:20:39.065211",
     "status": "completed"
    },
    "tags": []
   },
   "source": [
    "# Gaussian Naive Bayes\n",
    "Gaussian Naive Bayes (GNB) is a probabilistic algorithm used for classification tasks in machine learning. It is based on Bayes' theorem and assumes that features are conditionally independent given the class label. GNB is particularly useful when dealing with continuous or real-valued features that are assumed to be normally distributed. It is known for its simplicity and efficiency, especially for small to moderate-sized datasets. However, one of the key assumptions of GNB is that the features are conditionally independent, which might not always hold true in practice. Nevertheless, GNB is widely used in various applications, including text classification, spam filtering, and sentiment analysis."
   ]
  },
  {
   "cell_type": "code",
   "execution_count": 39,
   "id": "6077199c",
   "metadata": {
    "execution": {
     "iopub.execute_input": "2023-08-03T09:20:39.189795Z",
     "iopub.status.busy": "2023-08-03T09:20:39.188837Z",
     "iopub.status.idle": "2023-08-03T09:20:39.204677Z",
     "shell.execute_reply": "2023-08-03T09:20:39.203455Z"
    },
    "papermill": {
     "duration": 0.060568,
     "end_time": "2023-08-03T09:20:39.207440",
     "exception": false,
     "start_time": "2023-08-03T09:20:39.146872",
     "status": "completed"
    },
    "tags": []
   },
   "outputs": [],
   "source": [
    "gaussian = GaussianNB() \n",
    "gaussian.fit(X_train, Y_train)  \n",
    "Y_pred = gaussian.predict(X_test)  \n",
    "acc_gaussian = round(gaussian.score(X_train, Y_train) * 100, 2)"
   ]
  },
  {
   "cell_type": "markdown",
   "id": "77ace07f",
   "metadata": {
    "papermill": {
     "duration": 0.040924,
     "end_time": "2023-08-03T09:20:39.291647",
     "exception": false,
     "start_time": "2023-08-03T09:20:39.250723",
     "status": "completed"
    },
    "tags": []
   },
   "source": [
    "* gaussian = GaussianNB(): This line creates an instance of the GaussianNB class, representing the Gaussian Naive Bayes classifier. The \"Gaussian\" part implies that it assumes the features follow a Gaussian (normal) distribution.\n",
    "\n",
    "* gaussian.fit(X_train, Y_train): This line fits (or trains) the GNB model on the training data X_train with the corresponding target labels Y_train. During training, GNB estimates the parameters of the Gaussian distribution for each class based on the training data.\n",
    "\n",
    "* Y_pred = gaussian.predict(X_test): After training the GNB model, we use it to predict the labels of the test data X_test. For each test sample, GNB calculates the conditional probability of each class given the features and assigns the class label with the highest probability as the predicted label for the test sample.\n",
    "\n",
    "* acc_gaussian = round(gaussian.score(X_train, Y_train) * 100, 2): This line calculates the accuracy of the GNB model on the training data. It compares the predicted labels for X_train (which were obtained during training) with the actual target labels Y_train and calculates the accuracy as the percentage of correct predictions."
   ]
  },
  {
   "cell_type": "markdown",
   "id": "351835c3",
   "metadata": {
    "papermill": {
     "duration": 0.041364,
     "end_time": "2023-08-03T09:20:39.440257",
     "exception": false,
     "start_time": "2023-08-03T09:20:39.398893",
     "status": "completed"
    },
    "tags": []
   },
   "source": [
    "# Perceptron\n",
    "\n",
    "The Perceptron is one of the simplest forms of artificial neural networks and is used for binary classification tasks. It is a linear classifier and works well when the classes are linearly separable. The Perceptron algorithm is simple, efficient, and easy to implement, making it suitable for linearly separable binary classification problems. However, it may struggle with more complex datasets that are not linearly separable. In such cases, more advanced neural network architectures, such as multi-layer perceptrons (MLPs) or deep learning models, may be more appropriate."
   ]
  },
  {
   "cell_type": "code",
   "execution_count": 40,
   "id": "041b8085",
   "metadata": {
    "execution": {
     "iopub.execute_input": "2023-08-03T09:20:39.526303Z",
     "iopub.status.busy": "2023-08-03T09:20:39.525745Z",
     "iopub.status.idle": "2023-08-03T09:20:39.544131Z",
     "shell.execute_reply": "2023-08-03T09:20:39.542466Z"
    },
    "papermill": {
     "duration": 0.066151,
     "end_time": "2023-08-03T09:20:39.548633",
     "exception": false,
     "start_time": "2023-08-03T09:20:39.482482",
     "status": "completed"
    },
    "tags": []
   },
   "outputs": [],
   "source": [
    "perceptron = Perceptron(max_iter=100)\n",
    "perceptron.fit(X_train, Y_train)\n",
    "\n",
    "Y_pred = perceptron.predict(X_test)\n",
    "\n",
    "acc_perceptron = round(perceptron.score(X_train, Y_train) * 100, 2)"
   ]
  },
  {
   "cell_type": "markdown",
   "id": "88f512ce",
   "metadata": {
    "papermill": {
     "duration": 0.053828,
     "end_time": "2023-08-03T09:20:39.690129",
     "exception": false,
     "start_time": "2023-08-03T09:20:39.636301",
     "status": "completed"
    },
    "tags": []
   },
   "source": [
    "* perceptron = Perceptron(max_iter=100): This line creates an instance of the Perceptron class with a maximum of 100 iterations for training. The max_iter parameter determines the number of iterations the Perceptron will take to update its weights during training.\n",
    "\n",
    "* perceptron.fit(X_train, Y_train): This line fits (or trains) the Perceptron model on the training data X_train with the corresponding target labels Y_train. During training, the Perceptron adjusts its weights to find a separating hyperplane that best separates the two classes.\n",
    "\n",
    "* Y_pred = perceptron.predict(X_test): After training the Perceptron model, we use it to predict the labels of the test data X_test. For each test sample, the Perceptron calculates the weighted sum of the input features and applies a step function (typically the sign function) to make a binary prediction.\n",
    "\n",
    "* acc_perceptron = round(perceptron.score(X_train, Y_train) * 100, 2): This line calculates the accuracy of the Perceptron model on the training data. It compares the predicted labels for X_train (which were obtained during training) with the actual target labels Y_train and calculates the accuracy as the percentage of correct predictions."
   ]
  },
  {
   "cell_type": "markdown",
   "id": "3d742726",
   "metadata": {
    "papermill": {
     "duration": 0.041782,
     "end_time": "2023-08-03T09:20:39.773984",
     "exception": false,
     "start_time": "2023-08-03T09:20:39.732202",
     "status": "completed"
    },
    "tags": []
   },
   "source": [
    "# Linear Support Vector Machine\n",
    "Linear Support Vector Machine (Linear SVM) is a popular algorithm used for binary classification tasks. It aims to find the optimal hyperplane that best separates the data points of different classes. Linear SVM is particularly useful when the data is linearly separable, and it works well on large-scale datasets. However, like any other linear classifier, it may not perform well on datasets that are not linearly separable. In such cases, non-linear SVM kernels or other classifiers might be more appropriate. Additionally, proper feature scaling is often important when using SVMs to ensure good performance."
   ]
  },
  {
   "cell_type": "code",
   "execution_count": 41,
   "id": "b5cc636b",
   "metadata": {
    "execution": {
     "iopub.execute_input": "2023-08-03T09:20:39.859646Z",
     "iopub.status.busy": "2023-08-03T09:20:39.859159Z",
     "iopub.status.idle": "2023-08-03T09:20:40.671388Z",
     "shell.execute_reply": "2023-08-03T09:20:40.669215Z"
    },
    "papermill": {
     "duration": 0.861235,
     "end_time": "2023-08-03T09:20:40.676459",
     "exception": false,
     "start_time": "2023-08-03T09:20:39.815224",
     "status": "completed"
    },
    "tags": []
   },
   "outputs": [],
   "source": [
    "linear_svc = LinearSVC(max_iter=100000)\n",
    "linear_svc.fit(X_train, Y_train)\n",
    "\n",
    "Y_pred = linear_svc.predict(X_test)\n",
    "\n",
    "acc_linear_svc = round(linear_svc.score(X_train, Y_train) * 100, 2)"
   ]
  },
  {
   "cell_type": "markdown",
   "id": "37255614",
   "metadata": {
    "papermill": {
     "duration": 0.050859,
     "end_time": "2023-08-03T09:20:40.818417",
     "exception": false,
     "start_time": "2023-08-03T09:20:40.767558",
     "status": "completed"
    },
    "tags": []
   },
   "source": [
    "* linear_svc = LinearSVC(max_iter=100000): This line creates an instance of the LinearSVC class with a maximum of 100,000 iterations for training. The max_iter parameter determines the maximum number of iterations for training the model.\n",
    "\n",
    "* linear_svc.fit(X_train, Y_train): This line fits (or trains) the Linear SVM model on the training data X_train with the corresponding target labels Y_train. During training, the Linear SVM adjusts its hyperplane to maximize the margin between the two classes, thus finding the optimal decision boundary.\n",
    "\n",
    "* Y_pred = linear_svc.predict(X_test): After training the Linear SVM model, we use it to predict the labels of the test data X_test. For each test sample, the Linear SVM calculates the signed distance from the sample to the hyperplane and assigns a positive or negative label based on which side of the hyperplane the sample falls.\n",
    "\n",
    "* acc_linear_svc = round(linear_svc.score(X_train, Y_train) * 100, 2): This line calculates the accuracy of the Linear SVM model on the training data. It compares the predicted labels for X_train (which were obtained during training) with the actual target labels Y_train and calculates the accuracy as the percentage of correct predictions."
   ]
  },
  {
   "cell_type": "markdown",
   "id": "c553c52c",
   "metadata": {
    "papermill": {
     "duration": 0.041107,
     "end_time": "2023-08-03T09:20:40.900613",
     "exception": false,
     "start_time": "2023-08-03T09:20:40.859506",
     "status": "completed"
    },
    "tags": []
   },
   "source": [
    "# Decision Tree\n",
    "Decision Tree is a supervised learning algorithm used for both classification and regression tasks. Decision Trees are powerful and interpretable models. They can handle both categorical and numerical features and can capture complex decision boundaries. However, they are prone to overfitting, especially if the tree is deep and the dataset is small. Techniques such as pruning, setting a maximum depth, or using ensemble methods like Random Forest can help mitigate overfitting and improve generalization performance."
   ]
  },
  {
   "cell_type": "code",
   "execution_count": 42,
   "id": "51183d1e",
   "metadata": {
    "execution": {
     "iopub.execute_input": "2023-08-03T09:20:40.985181Z",
     "iopub.status.busy": "2023-08-03T09:20:40.984791Z",
     "iopub.status.idle": "2023-08-03T09:20:41.000624Z",
     "shell.execute_reply": "2023-08-03T09:20:40.999471Z"
    },
    "papermill": {
     "duration": 0.061578,
     "end_time": "2023-08-03T09:20:41.003457",
     "exception": false,
     "start_time": "2023-08-03T09:20:40.941879",
     "status": "completed"
    },
    "tags": []
   },
   "outputs": [],
   "source": [
    "decision_tree = DecisionTreeClassifier()\n",
    "decision_tree.fit(X_train, Y_train)\n",
    "Y_pred = decision_tree.predict(X_test)\n",
    "acc_decision_tree = round(decision_tree.score(X_train, Y_train) * 100, 2)"
   ]
  },
  {
   "cell_type": "markdown",
   "id": "61474b18",
   "metadata": {
    "papermill": {
     "duration": 0.041645,
     "end_time": "2023-08-03T09:20:41.087329",
     "exception": false,
     "start_time": "2023-08-03T09:20:41.045684",
     "status": "completed"
    },
    "tags": []
   },
   "source": [
    "* decision_tree = DecisionTreeClassifier(): This line creates an instance of the DecisionTreeClassifier class, which represents a decision tree model. The classifier is initialized with default hyperparameters.\n",
    "\n",
    "* decision_tree.fit(X_train, Y_train): This line fits (or trains) the Decision Tree model on the training data X_train with the corresponding target labels Y_train. During training, the Decision Tree algorithm recursively splits the data at the feature values that best separate the samples based on the target labels. It creates a tree-like structure of decisions, where each internal node represents a decision based on a specific feature, and each leaf node represents a class label or regression value.\n",
    "\n",
    "* Y_pred = decision_tree.predict(X_test): After training the Decision Tree model, we use it to predict the labels of the test data X_test. For each test sample, the Decision Tree algorithm follows the decision path down the tree, based on the feature values, and assigns the corresponding class label at the leaf node.\n",
    "\n",
    "* acc_decision_tree = round(decision_tree.score(X_train, Y_train) * 100, 2): This line calculates the accuracy of the Decision Tree model on the training data. It compares the predicted labels for X_train (which were obtained during training) with the actual target labels Y_train and calculates the accuracy as the percentage of correct predictions."
   ]
  },
  {
   "cell_type": "markdown",
   "id": "c3990d29",
   "metadata": {
    "papermill": {
     "duration": 0.041392,
     "end_time": "2023-08-03T09:20:41.169972",
     "exception": false,
     "start_time": "2023-08-03T09:20:41.128580",
     "status": "completed"
    },
    "tags": []
   },
   "source": [
    "# Which Model is the best"
   ]
  },
  {
   "cell_type": "code",
   "execution_count": 43,
   "id": "7e9ba320",
   "metadata": {
    "execution": {
     "iopub.execute_input": "2023-08-03T09:20:41.254682Z",
     "iopub.status.busy": "2023-08-03T09:20:41.253953Z",
     "iopub.status.idle": "2023-08-03T09:20:41.270714Z",
     "shell.execute_reply": "2023-08-03T09:20:41.269442Z"
    },
    "papermill": {
     "duration": 0.061982,
     "end_time": "2023-08-03T09:20:41.273200",
     "exception": false,
     "start_time": "2023-08-03T09:20:41.211218",
     "status": "completed"
    },
    "tags": []
   },
   "outputs": [
    {
     "data": {
      "text/html": [
       "<div>\n",
       "<style scoped>\n",
       "    .dataframe tbody tr th:only-of-type {\n",
       "        vertical-align: middle;\n",
       "    }\n",
       "\n",
       "    .dataframe tbody tr th {\n",
       "        vertical-align: top;\n",
       "    }\n",
       "\n",
       "    .dataframe thead th {\n",
       "        text-align: right;\n",
       "    }\n",
       "</style>\n",
       "<table border=\"1\" class=\"dataframe\">\n",
       "  <thead>\n",
       "    <tr style=\"text-align: right;\">\n",
       "      <th></th>\n",
       "      <th>Model</th>\n",
       "    </tr>\n",
       "    <tr>\n",
       "      <th>Score</th>\n",
       "      <th></th>\n",
       "    </tr>\n",
       "  </thead>\n",
       "  <tbody>\n",
       "    <tr>\n",
       "      <th>92.48</th>\n",
       "      <td>Random Forest</td>\n",
       "    </tr>\n",
       "    <tr>\n",
       "      <th>92.48</th>\n",
       "      <td>Decision Tree</td>\n",
       "    </tr>\n",
       "    <tr>\n",
       "      <th>85.63</th>\n",
       "      <td>KNN</td>\n",
       "    </tr>\n",
       "    <tr>\n",
       "      <th>81.48</th>\n",
       "      <td>Support Vector Machines</td>\n",
       "    </tr>\n",
       "    <tr>\n",
       "      <th>81.03</th>\n",
       "      <td>Logistic Regression</td>\n",
       "    </tr>\n",
       "    <tr>\n",
       "      <th>77.22</th>\n",
       "      <td>Naive Bayes</td>\n",
       "    </tr>\n",
       "    <tr>\n",
       "      <th>75.42</th>\n",
       "      <td>Perceptron</td>\n",
       "    </tr>\n",
       "    <tr>\n",
       "      <th>40.07</th>\n",
       "      <td>Stochastic Gradient Decent</td>\n",
       "    </tr>\n",
       "  </tbody>\n",
       "</table>\n",
       "</div>"
      ],
      "text/plain": [
       "                            Model\n",
       "Score                            \n",
       "92.48               Random Forest\n",
       "92.48               Decision Tree\n",
       "85.63                         KNN\n",
       "81.48     Support Vector Machines\n",
       "81.03         Logistic Regression\n",
       "77.22                 Naive Bayes\n",
       "75.42                  Perceptron\n",
       "40.07  Stochastic Gradient Decent"
      ]
     },
     "execution_count": 43,
     "metadata": {},
     "output_type": "execute_result"
    }
   ],
   "source": [
    "results = pd.DataFrame({\n",
    "    'Model': ['Support Vector Machines', 'KNN', 'Logistic Regression', \n",
    "              'Random Forest', 'Naive Bayes', 'Perceptron', \n",
    "              'Stochastic Gradient Decent', \n",
    "              'Decision Tree'],\n",
    "    'Score': [acc_linear_svc, acc_knn, acc_log, \n",
    "              acc_random_forest, acc_gaussian, acc_perceptron, \n",
    "              acc_sgd, acc_decision_tree]})\n",
    "result_df = results.sort_values(by='Score', ascending=False)\n",
    "result_df = result_df.set_index('Score')\n",
    "result_df.head(9)"
   ]
  },
  {
   "cell_type": "code",
   "execution_count": 44,
   "id": "ebf0f50b",
   "metadata": {
    "execution": {
     "iopub.execute_input": "2023-08-03T09:20:41.358202Z",
     "iopub.status.busy": "2023-08-03T09:20:41.357804Z",
     "iopub.status.idle": "2023-08-03T09:20:41.363344Z",
     "shell.execute_reply": "2023-08-03T09:20:41.362245Z"
    },
    "papermill": {
     "duration": 0.050906,
     "end_time": "2023-08-03T09:20:41.365750",
     "exception": false,
     "start_time": "2023-08-03T09:20:41.314844",
     "status": "completed"
    },
    "tags": []
   },
   "outputs": [],
   "source": [
    "# random_forest = RandomForestClassifier(n_estimators=100)\n",
    "# random_forest.fit(X_train, Y_train)\n",
    "\n",
    "# Y_prediction = random_forest.predict(X_test)\n",
    "\n",
    "# random_forest.score(X_train, Y_train)\n",
    "# acc_random_forest = round(random_forest.score(X_train, Y_train) * 100, 2)\n",
    "\n",
    "# #Prediction\n",
    "# predictions = random_forest.predict(X_test)\n",
    "\n",
    "# #Submission\n",
    "# submission = pd.DataFrame(Y_prediction, X_test.index, columns=[\"Survived\"])\n",
    "# submission.to_csv(\"submission.csv\", index_label=[\"PassengerID\"])"
   ]
  },
  {
   "cell_type": "markdown",
   "id": "5277c5f2",
   "metadata": {
    "papermill": {
     "duration": 0.041016,
     "end_time": "2023-08-03T09:20:41.448645",
     "exception": false,
     "start_time": "2023-08-03T09:20:41.407629",
     "status": "completed"
    },
    "tags": []
   },
   "source": [
    "The random forst classifier has the highest score. Let's use cross validation to check how it performs. Cross-validation is a statistical technique used in machine learning to assess the performance of a predictive model and to estimate how well it will generalize to new, unseen data."
   ]
  },
  {
   "cell_type": "markdown",
   "id": "72a8e4d2",
   "metadata": {
    "papermill": {
     "duration": 0.041305,
     "end_time": "2023-08-03T09:20:41.531268",
     "exception": false,
     "start_time": "2023-08-03T09:20:41.489963",
     "status": "completed"
    },
    "tags": []
   },
   "source": [
    "# K-Fold Cross Validation\n",
    "\n",
    "* K-Fold Cross Validation randomly splits the training data into K subsets called folds, with each fold acting as the test set once.\n",
    "\n",
    "* The number of folds used for cross-validation is specified by the 'cv' parameter in 'cross_val_score' function\n",
    "\n",
    "* In our case, we split our data into 10 folds (K = 10), our random forest model would be trained and evaluated 10 times using a different fold for evaluation everytime. \n",
    "\n",
    "* Each time, one fold is used as the test set, and the remaining 9 folds are used for training.\n",
    "\n",
    "* The code below calculates the accuracy of the individual scores, the mean of the scores, and the standard deviation of the scores.\n",
    "\n",
    "* The mean accuracy score represents an estimate of the models' overall perfomance, while the standard deviation gives an indication of the variance or stability of the model's performance across different folds.\n",
    "\n",
    "* By using K-Fold Cross validation, the code provides a more reliable and robust estimate of the model's accuracy on unseen data compared to using a single train-test split. It also allows for a better assessment of the model's generalization performance and helps in detecting potential overfitting issues."
   ]
  },
  {
   "cell_type": "code",
   "execution_count": 45,
   "id": "17fba37f",
   "metadata": {
    "execution": {
     "iopub.execute_input": "2023-08-03T09:20:41.618732Z",
     "iopub.status.busy": "2023-08-03T09:20:41.617873Z",
     "iopub.status.idle": "2023-08-03T09:20:44.534550Z",
     "shell.execute_reply": "2023-08-03T09:20:44.533066Z"
    },
    "papermill": {
     "duration": 2.964981,
     "end_time": "2023-08-03T09:20:44.537675",
     "exception": false,
     "start_time": "2023-08-03T09:20:41.572694",
     "status": "completed"
    },
    "tags": []
   },
   "outputs": [
    {
     "name": "stdout",
     "output_type": "stream",
     "text": [
      "Scores: [0.77777778 0.84269663 0.75280899 0.84269663 0.86516854 0.83146067\n",
      " 0.84269663 0.76404494 0.86516854 0.83146067]\n",
      "Mean: 0.8215980024968788\n",
      "Standard Deviation: 0.039104065209997825\n"
     ]
    }
   ],
   "source": [
    "from sklearn.model_selection import cross_val_score\n",
    "rf = RandomForestClassifier(n_estimators=100)\n",
    "scores = cross_val_score(rf, X_train, Y_train, cv=10, scoring = \"accuracy\")\n",
    "print(\"Scores:\", scores)\n",
    "print(\"Mean:\", scores.mean())\n",
    "print(\"Standard Deviation:\", scores.std())"
   ]
  },
  {
   "cell_type": "markdown",
   "id": "34704ed4",
   "metadata": {
    "papermill": {
     "duration": 0.046304,
     "end_time": "2023-08-03T09:20:44.629712",
     "exception": false,
     "start_time": "2023-08-03T09:20:44.583408",
     "status": "completed"
    },
    "tags": []
   },
   "source": [
    "Our model has an average accuracy of ~82% and a standard deviation of ~4%."
   ]
  },
  {
   "cell_type": "markdown",
   "id": "6301f95e",
   "metadata": {
    "papermill": {
     "duration": 0.042852,
     "end_time": "2023-08-03T09:20:44.717672",
     "exception": false,
     "start_time": "2023-08-03T09:20:44.674820",
     "status": "completed"
    },
    "tags": []
   },
   "source": [
    "# Increasing the performance of the random forest model"
   ]
  },
  {
   "cell_type": "code",
   "execution_count": 46,
   "id": "08d8a418",
   "metadata": {
    "execution": {
     "iopub.execute_input": "2023-08-03T09:20:44.810609Z",
     "iopub.status.busy": "2023-08-03T09:20:44.810211Z",
     "iopub.status.idle": "2023-08-03T09:20:44.834367Z",
     "shell.execute_reply": "2023-08-03T09:20:44.833401Z"
    },
    "papermill": {
     "duration": 0.074285,
     "end_time": "2023-08-03T09:20:44.837027",
     "exception": false,
     "start_time": "2023-08-03T09:20:44.762742",
     "status": "completed"
    },
    "tags": []
   },
   "outputs": [
    {
     "data": {
      "text/html": [
       "<div>\n",
       "<style scoped>\n",
       "    .dataframe tbody tr th:only-of-type {\n",
       "        vertical-align: middle;\n",
       "    }\n",
       "\n",
       "    .dataframe tbody tr th {\n",
       "        vertical-align: top;\n",
       "    }\n",
       "\n",
       "    .dataframe thead th {\n",
       "        text-align: right;\n",
       "    }\n",
       "</style>\n",
       "<table border=\"1\" class=\"dataframe\">\n",
       "  <thead>\n",
       "    <tr style=\"text-align: right;\">\n",
       "      <th></th>\n",
       "      <th>importance</th>\n",
       "    </tr>\n",
       "    <tr>\n",
       "      <th>feature</th>\n",
       "      <th></th>\n",
       "    </tr>\n",
       "  </thead>\n",
       "  <tbody>\n",
       "    <tr>\n",
       "      <th>Title</th>\n",
       "      <td>0.201</td>\n",
       "    </tr>\n",
       "    <tr>\n",
       "      <th>Sex</th>\n",
       "      <td>0.168</td>\n",
       "    </tr>\n",
       "    <tr>\n",
       "      <th>Deck</th>\n",
       "      <td>0.095</td>\n",
       "    </tr>\n",
       "    <tr>\n",
       "      <th>Age_Class</th>\n",
       "      <td>0.093</td>\n",
       "    </tr>\n",
       "    <tr>\n",
       "      <th>Age</th>\n",
       "      <td>0.075</td>\n",
       "    </tr>\n",
       "    <tr>\n",
       "      <th>Pclass</th>\n",
       "      <td>0.073</td>\n",
       "    </tr>\n",
       "    <tr>\n",
       "      <th>Fare</th>\n",
       "      <td>0.066</td>\n",
       "    </tr>\n",
       "    <tr>\n",
       "      <th>relatives</th>\n",
       "      <td>0.054</td>\n",
       "    </tr>\n",
       "    <tr>\n",
       "      <th>Embarked</th>\n",
       "      <td>0.053</td>\n",
       "    </tr>\n",
       "    <tr>\n",
       "      <th>SibSp</th>\n",
       "      <td>0.042</td>\n",
       "    </tr>\n",
       "    <tr>\n",
       "      <th>Fare_Per_Person</th>\n",
       "      <td>0.040</td>\n",
       "    </tr>\n",
       "    <tr>\n",
       "      <th>Parch</th>\n",
       "      <td>0.025</td>\n",
       "    </tr>\n",
       "    <tr>\n",
       "      <th>not_alone</th>\n",
       "      <td>0.015</td>\n",
       "    </tr>\n",
       "  </tbody>\n",
       "</table>\n",
       "</div>"
      ],
      "text/plain": [
       "                 importance\n",
       "feature                    \n",
       "Title                 0.201\n",
       "Sex                   0.168\n",
       "Deck                  0.095\n",
       "Age_Class             0.093\n",
       "Age                   0.075\n",
       "Pclass                0.073\n",
       "Fare                  0.066\n",
       "relatives             0.054\n",
       "Embarked              0.053\n",
       "SibSp                 0.042\n",
       "Fare_Per_Person       0.040\n",
       "Parch                 0.025\n",
       "not_alone             0.015"
      ]
     },
     "execution_count": 46,
     "metadata": {},
     "output_type": "execute_result"
    }
   ],
   "source": [
    "importances = pd.DataFrame({'feature':X_train.columns,'importance':np.round(random_forest.feature_importances_,3)})\n",
    "importances = importances.sort_values('importance',ascending=False).set_index('feature')\n",
    "importances.head(15)"
   ]
  },
  {
   "cell_type": "code",
   "execution_count": 47,
   "id": "4cfef703",
   "metadata": {
    "execution": {
     "iopub.execute_input": "2023-08-03T09:20:44.926314Z",
     "iopub.status.busy": "2023-08-03T09:20:44.925631Z",
     "iopub.status.idle": "2023-08-03T09:20:45.337430Z",
     "shell.execute_reply": "2023-08-03T09:20:45.336255Z"
    },
    "papermill": {
     "duration": 0.459579,
     "end_time": "2023-08-03T09:20:45.340008",
     "exception": false,
     "start_time": "2023-08-03T09:20:44.880429",
     "status": "completed"
    },
    "tags": []
   },
   "outputs": [
    {
     "data": {
      "text/plain": [
       "<Axes: xlabel='feature'>"
      ]
     },
     "execution_count": 47,
     "metadata": {},
     "output_type": "execute_result"
    },
    {
     "data": {
      "image/png": "[encoded data removed]",
      "text/plain": [
       "<Figure size 640x480 with 1 Axes>"
      ]
     },
     "metadata": {},
     "output_type": "display_data"
    }
   ],
   "source": [
    "importances.plot.bar()"
   ]
  },
  {
   "cell_type": "markdown",
   "id": "79edf0a7",
   "metadata": {
    "papermill": {
     "duration": 0.042282,
     "end_time": "2023-08-03T09:20:45.425110",
     "exception": false,
     "start_time": "2023-08-03T09:20:45.382828",
     "status": "completed"
    },
    "tags": []
   },
   "source": [
    "# Conclusion\n",
    "Features 'not_alone' and 'Parch' do not play a significant role in the random forest classifiers prediction process. Because of that, we will drop them from the dataset and train the classifier again. We can also remove more or less features."
   ]
  },
  {
   "cell_type": "code",
   "execution_count": 48,
   "id": "25ba20ca",
   "metadata": {
    "execution": {
     "iopub.execute_input": "2023-08-03T09:20:45.512548Z",
     "iopub.status.busy": "2023-08-03T09:20:45.511434Z",
     "iopub.status.idle": "2023-08-03T09:20:45.521084Z",
     "shell.execute_reply": "2023-08-03T09:20:45.520248Z"
    },
    "papermill": {
     "duration": 0.055966,
     "end_time": "2023-08-03T09:20:45.523373",
     "exception": false,
     "start_time": "2023-08-03T09:20:45.467407",
     "status": "completed"
    },
    "tags": []
   },
   "outputs": [],
   "source": [
    "train_df  = train_df.drop(\"not_alone\", axis=1)\n",
    "test_df  = test_df.drop(\"not_alone\", axis=1)\n",
    "\n",
    "train_df  = train_df.drop(\"Parch\", axis=1)\n",
    "test_df  = test_df.drop(\"Parch\", axis=1)"
   ]
  },
  {
   "cell_type": "markdown",
   "id": "f793fb68",
   "metadata": {
    "papermill": {
     "duration": 0.042312,
     "end_time": "2023-08-03T09:20:45.608821",
     "exception": false,
     "start_time": "2023-08-03T09:20:45.566509",
     "status": "completed"
    },
    "tags": []
   },
   "source": [
    "**Training Random Forest Again**"
   ]
  },
  {
   "cell_type": "code",
   "execution_count": 49,
   "id": "3b1eb027",
   "metadata": {
    "execution": {
     "iopub.execute_input": "2023-08-03T09:20:45.699447Z",
     "iopub.status.busy": "2023-08-03T09:20:45.698287Z",
     "iopub.status.idle": "2023-08-03T09:20:46.123265Z",
     "shell.execute_reply": "2023-08-03T09:20:46.122422Z"
    },
    "papermill": {
     "duration": 0.472573,
     "end_time": "2023-08-03T09:20:46.126658",
     "exception": false,
     "start_time": "2023-08-03T09:20:45.654085",
     "status": "completed"
    },
    "tags": []
   },
   "outputs": [
    {
     "name": "stdout",
     "output_type": "stream",
     "text": [
      "92.48 %\n"
     ]
    }
   ],
   "source": [
    "# Random Forest\n",
    "\n",
    "random_forest = RandomForestClassifier(n_estimators=100, oob_score = True)\n",
    "random_forest.fit(X_train, Y_train)\n",
    "Y_prediction = random_forest.predict(X_test)\n",
    "\n",
    "random_forest.score(X_train, Y_train)\n",
    "\n",
    "acc_random_forest = round(random_forest.score(X_train, Y_train) * 100, 2)\n",
    "print(round(acc_random_forest,2,), \"%\")"
   ]
  },
  {
   "cell_type": "markdown",
   "id": "cc3b0fe4",
   "metadata": {
    "papermill": {
     "duration": 0.04662,
     "end_time": "2023-08-03T09:20:46.219502",
     "exception": false,
     "start_time": "2023-08-03T09:20:46.172882",
     "status": "completed"
    },
    "tags": []
   },
   "source": [
    "**Another way to evaluate a random-forest classifier**\n",
    "In a Random Forest classifier, out-of-bag (OOB) samples are used for model evaluation without the need for a separate validation set or cross-validation. When constructing each decision tree in the forest, only a subset of the original training data is used for training, leaving some samples unused, known as out-of-bag samples.\n",
    "\n",
    "The benefit of using out-of-bag samples for evaluation is that it provides an unbiased estimate of the model's performance without the need for a separate validation set. It allows for the efficient use of the entire training dataset for both training and evaluation. This is particularly useful when the dataset is small and cross-validation might not be practical due to computational constraints."
   ]
  },
  {
   "cell_type": "code",
   "execution_count": 50,
   "id": "698d6c52",
   "metadata": {
    "execution": {
     "iopub.execute_input": "2023-08-03T09:20:46.311805Z",
     "iopub.status.busy": "2023-08-03T09:20:46.311164Z",
     "iopub.status.idle": "2023-08-03T09:20:46.316948Z",
     "shell.execute_reply": "2023-08-03T09:20:46.315719Z"
    },
    "papermill": {
     "duration": 0.054935,
     "end_time": "2023-08-03T09:20:46.319934",
     "exception": false,
     "start_time": "2023-08-03T09:20:46.264999",
     "status": "completed"
    },
    "tags": []
   },
   "outputs": [
    {
     "name": "stdout",
     "output_type": "stream",
     "text": [
      "oob score: 81.47999999999999 %\n"
     ]
    }
   ],
   "source": [
    "print(\"oob score:\", round(random_forest.oob_score_, 4)*100, \"%\")"
   ]
  },
  {
   "cell_type": "markdown",
   "id": "6ab8c4f9",
   "metadata": {
    "papermill": {
     "duration": 0.044912,
     "end_time": "2023-08-03T09:20:46.410662",
     "exception": false,
     "start_time": "2023-08-03T09:20:46.365750",
     "status": "completed"
    },
    "tags": []
   },
   "source": [
    "# Hyperparameter Tuning\n",
    "Also known as hyperparameter optimization, is the process of finding the best combination of hyperparameters for a machine learning model to achieve optimal performance. They control various aspects of the model's learning process, such as the complexity of the model, the learning rate, the number of hidden units in a neural network, or the number of trees in a random forest."
   ]
  },
  {
   "cell_type": "code",
   "execution_count": 51,
   "id": "d60d3812",
   "metadata": {
    "execution": {
     "iopub.execute_input": "2023-08-03T09:20:46.504817Z",
     "iopub.status.busy": "2023-08-03T09:20:46.504149Z",
     "iopub.status.idle": "2023-08-03T09:21:17.032282Z",
     "shell.execute_reply": "2023-08-03T09:21:17.030805Z"
    },
    "papermill": {
     "duration": 30.62051,
     "end_time": "2023-08-03T09:21:17.076890",
     "exception": false,
     "start_time": "2023-08-03T09:20:46.456380",
     "status": "completed"
    },
    "tags": []
   },
   "outputs": [
    {
     "name": "stderr",
     "output_type": "stream",
     "text": [
      "/opt/conda/lib/python3.10/site-packages/scipy/__init__.py:146: UserWarning: A NumPy version >=1.16.5 and <1.23.0 is required for this version of SciPy (detected version 1.23.5\n",
      "  warnings.warn(f\"A NumPy version >={np_minversion} and <{np_maxversion}\"\n",
      "/opt/conda/lib/python3.10/site-packages/scipy/__init__.py:146: UserWarning: A NumPy version >=1.16.5 and <1.23.0 is required for this version of SciPy (detected version 1.23.5\n",
      "  warnings.warn(f\"A NumPy version >={np_minversion} and <{np_maxversion}\"\n",
      "/opt/conda/lib/python3.10/site-packages/scipy/__init__.py:146: UserWarning: A NumPy version >=1.16.5 and <1.23.0 is required for this version of SciPy (detected version 1.23.5\n",
      "  warnings.warn(f\"A NumPy version >={np_minversion} and <{np_maxversion}\"\n",
      "/opt/conda/lib/python3.10/site-packages/scipy/__init__.py:146: UserWarning: A NumPy version >=1.16.5 and <1.23.0 is required for this version of SciPy (detected version 1.23.5\n",
      "  warnings.warn(f\"A NumPy version >={np_minversion} and <{np_maxversion}\"\n"
     ]
    },
    {
     "name": "stdout",
     "output_type": "stream",
     "text": [
      "{'n_estimators': 900, 'min_samples_split': 5, 'min_samples_leaf': 2, 'max_depth': 6}\n"
     ]
    }
   ],
   "source": [
    "from sklearn.model_selection import RandomizedSearchCV\n",
    "from sklearn.ensemble import RandomForestClassifier\n",
    "\n",
    "# Create the hyperparameters to tune\n",
    "param_grid = {\n",
    "    'n_estimators': np.arange(100, 1000, 100),\n",
    "    'max_depth': np.arange(3, 10, 1),\n",
    "    'min_samples_split': np.arange(2, 10, 1),\n",
    "    'min_samples_leaf': np.arange(1, 5, 1),\n",
    "}\n",
    "\n",
    "# Create the random forest classifier\n",
    "rf = RandomForestClassifier()\n",
    "\n",
    "# Create the RandomizedSearchCV object\n",
    "cv = RandomizedSearchCV(rf, param_grid, cv=5, n_jobs=-1)\n",
    "\n",
    "# Fit the model to the data\n",
    "cv.fit(X_train, Y_train)\n",
    "\n",
    "# Print the best parameters\n",
    "print(cv.best_params_)"
   ]
  },
  {
   "cell_type": "markdown",
   "id": "4c4652d1",
   "metadata": {
    "papermill": {
     "duration": 0.043222,
     "end_time": "2023-08-03T09:21:17.163059",
     "exception": false,
     "start_time": "2023-08-03T09:21:17.119837",
     "status": "completed"
    },
    "tags": []
   },
   "source": [
    "**Test new parameters**"
   ]
  },
  {
   "cell_type": "code",
   "execution_count": 52,
   "id": "d8d768fa",
   "metadata": {
    "execution": {
     "iopub.execute_input": "2023-08-03T09:21:17.252344Z",
     "iopub.status.busy": "2023-08-03T09:21:17.251170Z",
     "iopub.status.idle": "2023-08-03T09:21:21.692285Z",
     "shell.execute_reply": "2023-08-03T09:21:21.690513Z"
    },
    "papermill": {
     "duration": 4.489509,
     "end_time": "2023-08-03T09:21:21.695885",
     "exception": false,
     "start_time": "2023-08-03T09:21:17.206376",
     "status": "completed"
    },
    "tags": []
   },
   "outputs": [
    {
     "name": "stdout",
     "output_type": "stream",
     "text": [
      "oob score: 82.49 %\n"
     ]
    }
   ],
   "source": [
    "# Random Forest\n",
    "random_forest = RandomForestClassifier(criterion=\"gini\",\n",
    "                                       min_samples_leaf=cv.best_params_['min_samples_leaf'],\n",
    "                                       min_samples_split=cv.best_params_['min_samples_split'],\n",
    "                                       n_estimators=cv.best_params_['n_estimators'],\n",
    "                                       max_depth=cv.best_params_['max_depth'],\n",
    "                                       oob_score=True,\n",
    "                                       random_state=1,\n",
    "                                       n_jobs=-1)\n",
    "\n",
    "random_forest.fit(X_train, Y_train)\n",
    "Y_prediction = random_forest.predict(X_test)\n",
    "\n",
    "random_forest.score(X_train, Y_train)\n",
    "\n",
    "print(\"oob score:\", round(random_forest.oob_score_, 4)*100, \"%\")"
   ]
  },
  {
   "cell_type": "markdown",
   "id": "cecc0fd0",
   "metadata": {
    "papermill": {
     "duration": 0.046899,
     "end_time": "2023-08-03T09:21:21.788706",
     "exception": false,
     "start_time": "2023-08-03T09:21:21.741807",
     "status": "completed"
    },
    "tags": []
   },
   "source": [
    "# Further Evaluation"
   ]
  },
  {
   "cell_type": "markdown",
   "id": "3e4084ea",
   "metadata": {
    "papermill": {
     "duration": 0.042752,
     "end_time": "2023-08-03T09:21:21.877505",
     "exception": false,
     "start_time": "2023-08-03T09:21:21.834753",
     "status": "completed"
    },
    "tags": []
   },
   "source": [
    "# Confusion Matrix:\n",
    "A confusion matrix is a table that is used to evaluate the performance of a classification model. It is a fundamental tool in machine learning for understanding how well the model is making predictions on different classes.\n",
    "\n",
    "In a binary classification problem (a problem with two classes), the confusion matrix is a 2x2 matrix that shows the counts of true positive (TP), false positive (FP), true negative (TN), and false negative (FN) predictions. The four terms in the confusion matrix have the following meanings:"
   ]
  },
  {
   "cell_type": "code",
   "execution_count": 53,
   "id": "0d7cbed7",
   "metadata": {
    "execution": {
     "iopub.execute_input": "2023-08-03T09:21:21.965287Z",
     "iopub.status.busy": "2023-08-03T09:21:21.964876Z",
     "iopub.status.idle": "2023-08-03T09:21:28.033534Z",
     "shell.execute_reply": "2023-08-03T09:21:28.032433Z"
    },
    "papermill": {
     "duration": 6.115606,
     "end_time": "2023-08-03T09:21:28.036189",
     "exception": false,
     "start_time": "2023-08-03T09:21:21.920583",
     "status": "completed"
    },
    "tags": []
   },
   "outputs": [
    {
     "data": {
      "text/plain": [
       "array([[489,  60],\n",
       "       [ 91, 251]])"
      ]
     },
     "execution_count": 53,
     "metadata": {},
     "output_type": "execute_result"
    }
   ],
   "source": [
    "from sklearn.model_selection import cross_val_predict\n",
    "from sklearn.metrics import confusion_matrix\n",
    "predictions = cross_val_predict(random_forest, X_train, Y_train, cv=3)\n",
    "confusion_matrix(Y_train, predictions)"
   ]
  },
  {
   "cell_type": "markdown",
   "id": "3dd2d4f4",
   "metadata": {
    "papermill": {
     "duration": 0.043691,
     "end_time": "2023-08-03T09:21:28.124717",
     "exception": false,
     "start_time": "2023-08-03T09:21:28.081026",
     "status": "completed"
    },
    "tags": []
   },
   "source": [
    "In our confusion matrix:\n",
    "\n",
    "* True Positive (TP): 486 instances were correctly predicted as positive (Survived) by the model.\n",
    "* False Positive (FP): 63 instances were incorrectly predicted as positive (Survived) when they were actually negative (Not Survived).\n",
    "* False Negative (FN): 93 instances were incorrectly predicted as negative (Not Survived) when they were actually positive (Survived).\n",
    "* True Negative (TN): 249 instances were correctly predicted as negative (Not Survived) by the model.\n",
    "\n",
    "\n",
    "To interpret this confusion matrix:\n",
    "\n",
    "* The total number of positive instances (Survived) in the dataset is TP + FN = 486 + 93 = 581.\n",
    "* The total number of negative instances (Not Survived) in the dataset is TN + FP = 249 + 63 = 312.\n",
    "* The overall accuracy of the model is (TP + TN) / (TP + TN + FP + FN) = (486 + 249) / (486 + 249 + 63 + 93) =  735 / 891 ≈ 82.45%."
   ]
  },
  {
   "cell_type": "markdown",
   "id": "4e9d0730",
   "metadata": {
    "papermill": {
     "duration": 0.042813,
     "end_time": "2023-08-03T09:21:28.210648",
     "exception": false,
     "start_time": "2023-08-03T09:21:28.167835",
     "status": "completed"
    },
    "tags": []
   },
   "source": [
    "# Precision and Recall\n",
    "Precision and recall are two important metrics used to evaluate the performance of a classification model, especially in binary classification problems. They are derived from the confusion matrix.\n",
    "\n",
    "Precision: Precision is the measure of the model's ability to correctly identify positive instances among all the instances predicted as positive. In other words, it represents the proportion of true positive predictions (correctly classified positive instances) out of all positive predictions made by the model. A high precision value indicates that when the model predicts a positive class, it is highly likely to be correct. Precision is particularly relevant in situations where false positives are costly or undesirable, as it measures the ability of the model to avoid making false positive predictions. Precision is calculated as: Precision = TP / (TP + FP)\n",
    "\n",
    "Recall (Sensitivity or True Positive Rate): Recall is the measure of the model's ability to correctly identify all positive instances among all the actual positive instances in the dataset. In other words, it represents the proportion of true positive predictions out of all actual positive instances in the dataset. A high recall value indicates that the model is effective at capturing most of the positive instances in the dataset. Recall is particularly important in situations where false negatives are costly or dangerous, as it measures the ability of the model to avoid missing positive instances. Recall is calculated as: Recall = TP / (TP + FN)"
   ]
  },
  {
   "cell_type": "code",
   "execution_count": 54,
   "id": "62b46329",
   "metadata": {
    "execution": {
     "iopub.execute_input": "2023-08-03T09:21:28.298545Z",
     "iopub.status.busy": "2023-08-03T09:21:28.298080Z",
     "iopub.status.idle": "2023-08-03T09:21:28.310646Z",
     "shell.execute_reply": "2023-08-03T09:21:28.309143Z"
    },
    "papermill": {
     "duration": 0.059613,
     "end_time": "2023-08-03T09:21:28.313135",
     "exception": false,
     "start_time": "2023-08-03T09:21:28.253522",
     "status": "completed"
    },
    "tags": []
   },
   "outputs": [
    {
     "name": "stdout",
     "output_type": "stream",
     "text": [
      "Precision: 0.8070739549839229\n",
      "Recall: 0.7339181286549707\n"
     ]
    }
   ],
   "source": [
    "from sklearn.metrics import precision_score, recall_score\n",
    "\n",
    "print(\"Precision:\", precision_score(Y_train, predictions))\n",
    "print(\"Recall:\",recall_score(Y_train, predictions))"
   ]
  },
  {
   "cell_type": "markdown",
   "id": "d671d2f8",
   "metadata": {
    "papermill": {
     "duration": 0.043026,
     "end_time": "2023-08-03T09:21:28.400883",
     "exception": false,
     "start_time": "2023-08-03T09:21:28.357857",
     "status": "completed"
    },
    "tags": []
   },
   "source": [
    "# F-Score\n",
    "\n",
    "The F-score, also known as the F1 score, is a metric that combines precision and recall into a single value. It is a way to balance the trade-off between precision and recall in binary classification problems. The F1 score ranges from 0 to 1, where 1 represents a perfect classifier that has both high precision and high recall. A higher F1 score indicates a better overall performance of the model in correctly classifying positive instances while minimizing false positives and false negatives.\n",
    "\n",
    "The F-score is calculated as the harmonic mean of precision and recall and is defined as follows:\n",
    "\n",
    "F1 score = 2 * (precision * recall) / (precision + recall)"
   ]
  },
  {
   "cell_type": "code",
   "execution_count": 55,
   "id": "58789462",
   "metadata": {
    "execution": {
     "iopub.execute_input": "2023-08-03T09:21:28.490282Z",
     "iopub.status.busy": "2023-08-03T09:21:28.489861Z",
     "iopub.status.idle": "2023-08-03T09:21:28.499348Z",
     "shell.execute_reply": "2023-08-03T09:21:28.498446Z"
    },
    "papermill": {
     "duration": 0.056876,
     "end_time": "2023-08-03T09:21:28.501740",
     "exception": false,
     "start_time": "2023-08-03T09:21:28.444864",
     "status": "completed"
    },
    "tags": []
   },
   "outputs": [
    {
     "data": {
      "text/plain": [
       "0.7687595712098009"
      ]
     },
     "execution_count": 55,
     "metadata": {},
     "output_type": "execute_result"
    }
   ],
   "source": [
    "from sklearn.metrics import f1_score\n",
    "f1_score(Y_train, predictions)"
   ]
  },
  {
   "cell_type": "markdown",
   "id": "6ff67029",
   "metadata": {
    "papermill": {
     "duration": 0.043539,
     "end_time": "2023-08-03T09:21:28.589003",
     "exception": false,
     "start_time": "2023-08-03T09:21:28.545464",
     "status": "completed"
    },
    "tags": []
   },
   "source": [
    "# Precision Recall Curve\n",
    "The Precision-Recall (PR) curve is a graphical representation that illustrates the trade-off between precision and recall for different classification thresholds in a binary classification model. It is a useful tool for evaluating and comparing the performance of models, especially in cases where the dataset is imbalanced."
   ]
  },
  {
   "cell_type": "code",
   "execution_count": 56,
   "id": "c7490601",
   "metadata": {
    "execution": {
     "iopub.execute_input": "2023-08-03T09:21:28.698331Z",
     "iopub.status.busy": "2023-08-03T09:21:28.697745Z",
     "iopub.status.idle": "2023-08-03T09:21:29.340647Z",
     "shell.execute_reply": "2023-08-03T09:21:29.339541Z"
    },
    "papermill": {
     "duration": 0.706355,
     "end_time": "2023-08-03T09:21:29.342955",
     "exception": false,
     "start_time": "2023-08-03T09:21:28.636600",
     "status": "completed"
    },
    "tags": []
   },
   "outputs": [
    {
     "data": {
      "image/png": "[encoded data removed]",
      "text/plain": [
       "<Figure size 1400x700 with 1 Axes>"
      ]
     },
     "metadata": {},
     "output_type": "display_data"
    }
   ],
   "source": [
    "from sklearn.metrics import precision_recall_curve\n",
    "\n",
    "# getting the probabilities of our predictions\n",
    "y_scores = random_forest.predict_proba(X_train)\n",
    "y_scores = y_scores[:,1]\n",
    "\n",
    "precision, recall, threshold = precision_recall_curve(Y_train, y_scores)\n",
    "def plot_precision_and_recall(precision, recall, threshold):\n",
    "    plt.plot(threshold, precision[:-1], \"r-\", label=\"precision\", linewidth=5)\n",
    "    plt.plot(threshold, recall[:-1], \"b\", label=\"recall\", linewidth=5)\n",
    "    plt.xlabel(\"threshold\", fontsize=19)\n",
    "    plt.legend(loc=\"upper right\", fontsize=19)\n",
    "    plt.ylim([0, 1])\n",
    "\n",
    "plt.figure(figsize=(14, 7))\n",
    "plot_precision_and_recall(precision, recall, threshold)\n",
    "plt.show()"
   ]
  },
  {
   "cell_type": "markdown",
   "id": "cbe0f901",
   "metadata": {
    "papermill": {
     "duration": 0.044028,
     "end_time": "2023-08-03T09:21:29.431588",
     "exception": false,
     "start_time": "2023-08-03T09:21:29.387560",
     "status": "completed"
    },
    "tags": []
   },
   "source": [
    "Another way is to plot the precision and recall against each other:"
   ]
  },
  {
   "cell_type": "code",
   "execution_count": 57,
   "id": "6cdc819a",
   "metadata": {
    "execution": {
     "iopub.execute_input": "2023-08-03T09:21:29.523327Z",
     "iopub.status.busy": "2023-08-03T09:21:29.522941Z",
     "iopub.status.idle": "2023-08-03T09:21:29.837917Z",
     "shell.execute_reply": "2023-08-03T09:21:29.836763Z"
    },
    "papermill": {
     "duration": 0.36341,
     "end_time": "2023-08-03T09:21:29.840459",
     "exception": false,
     "start_time": "2023-08-03T09:21:29.477049",
     "status": "completed"
    },
    "tags": []
   },
   "outputs": [
    {
     "data": {
      "image/png": "[encoded data removed]",
      "text/plain": [
       "<Figure size 1400x700 with 1 Axes>"
      ]
     },
     "metadata": {},
     "output_type": "display_data"
    }
   ],
   "source": [
    "def plot_precision_vs_recall(precision, recall):\n",
    "    plt.plot(recall, precision, \"g--\", linewidth=2.5)\n",
    "    plt.ylabel(\"recall\", fontsize=19)\n",
    "    plt.xlabel(\"precision\", fontsize=19)\n",
    "    plt.axis([0, 1.5, 0, 1.5])\n",
    "\n",
    "plt.figure(figsize=(14, 7))\n",
    "plot_precision_vs_recall(precision, recall)\n",
    "plt.show()"
   ]
  },
  {
   "cell_type": "markdown",
   "id": "af67f29a",
   "metadata": {
    "papermill": {
     "duration": 0.044866,
     "end_time": "2023-08-03T09:21:29.932856",
     "exception": false,
     "start_time": "2023-08-03T09:21:29.887990",
     "status": "completed"
    },
    "tags": []
   },
   "source": [
    "# ROC AUC Curve\n",
    "The Receiver Operating Characteristic (ROC) curve and the Area Under the ROC Curve (AUC-ROC) are graphical tools used to evaluate the performance of binary classification models.\n",
    "\n",
    "The ROC curve is created by plotting the True Positive Rate (TPR), also known as sensitivity or recall, on the y-axis against the False Positive Rate (FPR) on the x-axis for different classification thresholds. The TPR is the ratio of true positive predictions to the total number of positive instances in the dataset, and the FPR is the ratio of false positive predictions to the total number of negative instances in the dataset."
   ]
  },
  {
   "cell_type": "code",
   "execution_count": 58,
   "id": "cd11f68a",
   "metadata": {
    "execution": {
     "iopub.execute_input": "2023-08-03T09:21:30.025622Z",
     "iopub.status.busy": "2023-08-03T09:21:30.025189Z",
     "iopub.status.idle": "2023-08-03T09:21:30.321300Z",
     "shell.execute_reply": "2023-08-03T09:21:30.320424Z"
    },
    "papermill": {
     "duration": 0.344704,
     "end_time": "2023-08-03T09:21:30.323649",
     "exception": false,
     "start_time": "2023-08-03T09:21:29.978945",
     "status": "completed"
    },
    "tags": []
   },
   "outputs": [
    {
     "data": {
      "image/png": "[encoded data removed]",
      "text/plain": [
       "<Figure size 1400x700 with 1 Axes>"
      ]
     },
     "metadata": {},
     "output_type": "display_data"
    }
   ],
   "source": [
    "from sklearn.metrics import roc_curve\n",
    "# compute true positive rate and false positive rate\n",
    "false_positive_rate, true_positive_rate, thresholds = roc_curve(Y_train, y_scores)\n",
    "# plotting them against each other\n",
    "def plot_roc_curve(false_positive_rate, true_positive_rate, label=None):\n",
    "    plt.plot(false_positive_rate, true_positive_rate, linewidth=2, label=label)\n",
    "    plt.plot([0, 1], [0, 1], 'r', linewidth=4)\n",
    "    plt.axis([0, 1, 0, 1])\n",
    "    plt.xlabel('False Positive Rate (FPR)', fontsize=16)\n",
    "    plt.ylabel('True Positive Rate (TPR)', fontsize=16)\n",
    "\n",
    "plt.figure(figsize=(14, 7))\n",
    "plot_roc_curve(false_positive_rate, true_positive_rate)\n",
    "plt.show()"
   ]
  },
  {
   "cell_type": "markdown",
   "id": "9038775c",
   "metadata": {
    "papermill": {
     "duration": 0.045548,
     "end_time": "2023-08-03T09:21:30.414826",
     "exception": false,
     "start_time": "2023-08-03T09:21:30.369278",
     "status": "completed"
    },
    "tags": []
   },
   "source": [
    "# ROC AUC Score\n",
    "\n",
    "The ROC AUC (Receiver Operating Characteristic Area Under the Curve) score is a single numeric value that represents the area under the ROC curve. It quantifies the performance of a binary classification model by measuring its ability to distinguish between positive and negative instances across different classification thresholds.\n",
    "\n",
    "The ROC AUC score ranges between 0 and 1, with higher values indicating better model performance:\n",
    "\n",
    "* A score of 0.5 suggests a random classifier that performs no better than chance.\n",
    "* A score close to 1 indicates a strong classifier that can effectively separate positive and negative instances.\n",
    "* A score below 0.5 suggests a model that performs worse than random and might have the wrong classification orientation (e.g., falsely predicting the opposite class more often).\n",
    "\n",
    "The ROC AUC score is particularly useful when dealing with imbalanced datasets, where the number of instances in one class is significantly higher than the other. In such cases, accuracy may not be an informative metric, as a classifier could achieve high accuracy by simply predicting the majority class most of the time. The ROC AUC score provides a more robust evaluation of the classifier's performance by taking into account the trade-off between true positive rate (sensitivity) and false positive rate (1-specificity) across different thresholds."
   ]
  },
  {
   "cell_type": "code",
   "execution_count": 59,
   "id": "019d7bbd",
   "metadata": {
    "execution": {
     "iopub.execute_input": "2023-08-03T09:21:30.521776Z",
     "iopub.status.busy": "2023-08-03T09:21:30.520901Z",
     "iopub.status.idle": "2023-08-03T09:21:30.534415Z",
     "shell.execute_reply": "2023-08-03T09:21:30.532929Z"
    },
    "papermill": {
     "duration": 0.076336,
     "end_time": "2023-08-03T09:21:30.537296",
     "exception": false,
     "start_time": "2023-08-03T09:21:30.460960",
     "status": "completed"
    },
    "tags": []
   },
   "outputs": [
    {
     "name": "stdout",
     "output_type": "stream",
     "text": [
      "ROC-AUC-Score: 0.9198542805100183\n"
     ]
    }
   ],
   "source": [
    "from sklearn.metrics import roc_auc_score\n",
    "r_a_score = roc_auc_score(Y_train, y_scores)\n",
    "print(\"ROC-AUC-Score:\", r_a_score)"
   ]
  },
  {
   "cell_type": "code",
   "execution_count": 60,
   "id": "2346150f",
   "metadata": {
    "execution": {
     "iopub.execute_input": "2023-08-03T09:21:30.637566Z",
     "iopub.status.busy": "2023-08-03T09:21:30.637148Z",
     "iopub.status.idle": "2023-08-03T09:21:30.648059Z",
     "shell.execute_reply": "2023-08-03T09:21:30.646964Z"
    },
    "papermill": {
     "duration": 0.06285,
     "end_time": "2023-08-03T09:21:30.651443",
     "exception": false,
     "start_time": "2023-08-03T09:21:30.588593",
     "status": "completed"
    },
    "tags": []
   },
   "outputs": [],
   "source": [
    "#Submission\n",
    "submission = pd.DataFrame(Y_prediction, X_test.index, columns=[\"Survived\"])\n",
    "submission.to_csv(\"submission.csv\", index_label=[\"PassengerID\"])"
   ]
  }
 ],
 "metadata": {
  "kernelspec": {
   "display_name": "Python 3",
   "language": "python",
   "name": "python3"
  },
  "language_info": {
   "codemirror_mode": {
    "name": "ipython",
    "version": 3
   },
   "file_extension": ".py",
   "mimetype": "text/x-python",
   "name": "python",
   "nbconvert_exporter": "python",
   "pygments_lexer": "ipython3",
   "version": "3.10.12"
  },
  "papermill": {
   "default_parameters": {},
   "duration": 83.566676,
   "end_time": "2023-08-03T09:21:33.325152",
   "environment_variables": {},
   "exception": null,
   "input_path": "__notebook__.ipynb",
   "output_path": "__notebook__.ipynb",
   "parameters": {},
   "start_time": "2023-08-03T09:20:09.758476",
   "version": "2.4.0"
  }
 },
 "nbformat": 4,
 "nbformat_minor": 5
}
